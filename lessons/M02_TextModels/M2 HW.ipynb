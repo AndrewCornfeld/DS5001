{
 "cells": [
  {
   "cell_type": "markdown",
   "id": "4fda3a72-333b-464d-9801-138493409890",
   "metadata": {},
   "source": [
    "## M2 HW - Andrew Cornfeld"
   ]
  },
  {
   "cell_type": "code",
   "execution_count": null,
   "id": "3b33d48b-9c4f-4c75-8a26-97f4e1a2856e",
   "metadata": {},
   "outputs": [],
   "source": []
  }
 ],
 "metadata": {
  "kernelspec": {
   "display_name": "Python 3 (ipykernel)",
   "language": "python",
   "name": "python3"
  },
  "language_info": {
   "codemirror_mode": {
    "name": "ipython",
    "version": 3
   },
   "file_extension": ".py",
   "mimetype": "text/x-python",
   "name": "python",
   "nbconvert_exporter": "python",
   "pygments_lexer": "ipython3",
   "version": "3.11.4"
  }
 },
 "nbformat": 4,
 "nbformat_minor": 5
}
