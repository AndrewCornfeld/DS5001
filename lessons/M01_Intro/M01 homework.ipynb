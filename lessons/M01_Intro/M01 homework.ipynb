{
 "cells": [
  {
   "cell_type": "markdown",
   "id": "1c392569-94db-4712-9a85-c39aa5296b0f",
   "metadata": {},
   "source": [
    "# M01 HW - Andrew Cornfeld (cpm6gh)"
   ]
  },
  {
   "cell_type": "markdown",
   "id": "c5217094-968d-4acf-b92a-a283b2933cda",
   "metadata": {},
   "source": [
    "# Setup"
   ]
  },
  {
   "cell_type": "code",
   "execution_count": 1,
   "id": "55a49209-fd3b-46d7-9ba6-dca172a41a49",
   "metadata": {
    "tags": []
   },
   "outputs": [],
   "source": [
    "import pandas as pd\n",
    "import configparser"
   ]
  },
  {
   "cell_type": "code",
   "execution_count": 3,
   "id": "3370b564-c8cf-4de1-9965-c84c274ed71c",
   "metadata": {
    "tags": []
   },
   "outputs": [],
   "source": [
    "config = configparser.ConfigParser()\n",
    "config.read(\"../../../env.ini\")\n",
    "data_home = config['DEFAULT']['data_home']\n",
    "output_dir = config['DEFAULT']['output_dir']"
   ]
  },
  {
   "cell_type": "markdown",
   "id": "961b8177-9b38-4f4c-ab86-5eabef0a69ac",
   "metadata": {},
   "source": [
    "# Import File"
   ]
  },
  {
   "cell_type": "code",
   "execution_count": 4,
   "id": "3a03a05d-d853-4294-bbff-66e20a56f9a3",
   "metadata": {
    "tags": []
   },
   "outputs": [
    {
     "name": "stdout",
     "output_type": "stream",
     "text": [
      "total 457\n",
      "drwx--S--- 2 cpm6gh users   4096 Jan 16 16:05 gutenberg\n",
      "-rw------- 1 cpm6gh users 465627 Jan 17 14:52 pg42324.txt\n"
     ]
    }
   ],
   "source": [
    "!ls -l {data_home}"
   ]
  },
  {
   "cell_type": "code",
   "execution_count": 5,
   "id": "488db750-2bd7-482d-8f6a-36d2f56da774",
   "metadata": {
    "tags": []
   },
   "outputs": [],
   "source": [
    "src_file = f\"{data_home}/pg42324.txt\""
   ]
  },
  {
   "cell_type": "code",
   "execution_count": 6,
   "id": "fe141903-f5df-47ee-bab6-ef1588fe662a",
   "metadata": {
    "tags": []
   },
   "outputs": [],
   "source": [
    "lines = open(src_file, 'r').readlines()"
   ]
  },
  {
   "cell_type": "code",
   "execution_count": 7,
   "id": "f94c5923-2a24-4f9f-b7b6-ea5741610ef8",
   "metadata": {
    "tags": []
   },
   "outputs": [
    {
     "data": {
      "text/plain": [
       "['\\ufeffThe Project Gutenberg EBook of Frankenstein, by Mary W. Shelley\\n',\n",
       " '\\n',\n",
       " 'This eBook is for the use of anyone anywhere at no cost and with\\n',\n",
       " 'almost no restrictions whatsoever.  You may copy it, give it away or\\n',\n",
       " 're-use it under the terms of the Project Gutenberg License included\\n']"
      ]
     },
     "execution_count": 7,
     "metadata": {},
     "output_type": "execute_result"
    }
   ],
   "source": [
    "lines[:5]"
   ]
  },
  {
   "cell_type": "code",
   "execution_count": 8,
   "id": "5946dd8b-b075-4c20-8290-459e751e53dc",
   "metadata": {
    "tags": []
   },
   "outputs": [
    {
     "data": {
      "text/plain": [
       "['\\n',\n",
       " 'This Web site includes information about Project Gutenberg-tm,\\n',\n",
       " 'including how to make donations to the Project Gutenberg Literary\\n',\n",
       " 'Archive Foundation, how to help produce our new eBooks, and how to\\n',\n",
       " 'subscribe to our email newsletter to hear about new eBooks.\\n']"
      ]
     },
     "execution_count": 8,
     "metadata": {},
     "output_type": "execute_result"
    }
   ],
   "source": [
    "lines[-5:]"
   ]
  },
  {
   "cell_type": "markdown",
   "id": "f0b1769d-b4f6-4f5a-9acc-d6e6c03c5c5c",
   "metadata": {},
   "source": [
    "# Convert to Dataframe"
   ]
  },
  {
   "cell_type": "code",
   "execution_count": 9,
   "id": "35f8cb51-0dd2-4975-b45b-44b5532146cc",
   "metadata": {
    "tags": []
   },
   "outputs": [],
   "source": [
    "text = pd.DataFrame(lines)"
   ]
  },
  {
   "cell_type": "code",
   "execution_count": 10,
   "id": "e68e69f4-8d4a-41a7-839e-9e508ccf7268",
   "metadata": {
    "tags": []
   },
   "outputs": [
    {
     "data": {
      "text/html": [
       "<div>\n",
       "<style scoped>\n",
       "    .dataframe tbody tr th:only-of-type {\n",
       "        vertical-align: middle;\n",
       "    }\n",
       "\n",
       "    .dataframe tbody tr th {\n",
       "        vertical-align: top;\n",
       "    }\n",
       "\n",
       "    .dataframe thead th {\n",
       "        text-align: right;\n",
       "    }\n",
       "</style>\n",
       "<table border=\"1\" class=\"dataframe\">\n",
       "  <thead>\n",
       "    <tr style=\"text-align: right;\">\n",
       "      <th></th>\n",
       "      <th>0</th>\n",
       "    </tr>\n",
       "  </thead>\n",
       "  <tbody>\n",
       "    <tr>\n",
       "      <th>0</th>\n",
       "      <td>﻿The Project Gutenberg EBook of Frankenstein, ...</td>\n",
       "    </tr>\n",
       "    <tr>\n",
       "      <th>1</th>\n",
       "      <td>\\n</td>\n",
       "    </tr>\n",
       "    <tr>\n",
       "      <th>2</th>\n",
       "      <td>This eBook is for the use of anyone anywhere a...</td>\n",
       "    </tr>\n",
       "    <tr>\n",
       "      <th>3</th>\n",
       "      <td>almost no restrictions whatsoever.  You may co...</td>\n",
       "    </tr>\n",
       "    <tr>\n",
       "      <th>4</th>\n",
       "      <td>re-use it under the terms of the Project Guten...</td>\n",
       "    </tr>\n",
       "    <tr>\n",
       "      <th>...</th>\n",
       "      <td>...</td>\n",
       "    </tr>\n",
       "    <tr>\n",
       "      <th>8023</th>\n",
       "      <td>\\n</td>\n",
       "    </tr>\n",
       "    <tr>\n",
       "      <th>8024</th>\n",
       "      <td>This Web site includes information about Proje...</td>\n",
       "    </tr>\n",
       "    <tr>\n",
       "      <th>8025</th>\n",
       "      <td>including how to make donations to the Project...</td>\n",
       "    </tr>\n",
       "    <tr>\n",
       "      <th>8026</th>\n",
       "      <td>Archive Foundation, how to help produce our ne...</td>\n",
       "    </tr>\n",
       "    <tr>\n",
       "      <th>8027</th>\n",
       "      <td>subscribe to our email newsletter to hear abou...</td>\n",
       "    </tr>\n",
       "  </tbody>\n",
       "</table>\n",
       "<p>8028 rows × 1 columns</p>\n",
       "</div>"
      ],
      "text/plain": [
       "                                                      0\n",
       "0     ﻿The Project Gutenberg EBook of Frankenstein, ...\n",
       "1                                                    \\n\n",
       "2     This eBook is for the use of anyone anywhere a...\n",
       "3     almost no restrictions whatsoever.  You may co...\n",
       "4     re-use it under the terms of the Project Guten...\n",
       "...                                                 ...\n",
       "8023                                                 \\n\n",
       "8024  This Web site includes information about Proje...\n",
       "8025  including how to make donations to the Project...\n",
       "8026  Archive Foundation, how to help produce our ne...\n",
       "8027  subscribe to our email newsletter to hear abou...\n",
       "\n",
       "[8028 rows x 1 columns]"
      ]
     },
     "execution_count": 10,
     "metadata": {},
     "output_type": "execute_result"
    }
   ],
   "source": [
    "text"
   ]
  },
  {
   "cell_type": "code",
   "execution_count": 13,
   "id": "6defbba3-367c-4f3e-a743-79f80e373304",
   "metadata": {
    "tags": []
   },
   "outputs": [
    {
     "data": {
      "text/html": [
       "<div>\n",
       "<style scoped>\n",
       "    .dataframe tbody tr th:only-of-type {\n",
       "        vertical-align: middle;\n",
       "    }\n",
       "\n",
       "    .dataframe tbody tr th {\n",
       "        vertical-align: top;\n",
       "    }\n",
       "\n",
       "    .dataframe thead th {\n",
       "        text-align: right;\n",
       "    }\n",
       "</style>\n",
       "<table border=\"1\" class=\"dataframe\">\n",
       "  <thead>\n",
       "    <tr style=\"text-align: right;\">\n",
       "      <th></th>\n",
       "      <th>0</th>\n",
       "    </tr>\n",
       "  </thead>\n",
       "  <tbody>\n",
       "    <tr>\n",
       "      <th>4233</th>\n",
       "      <td>of De Lacey, when her attendant fell dangerous...</td>\n",
       "    </tr>\n",
       "    <tr>\n",
       "      <th>2299</th>\n",
       "      <td>your return to us; and I was at first tempted ...</td>\n",
       "    </tr>\n",
       "    <tr>\n",
       "      <th>4048</th>\n",
       "      <td>was in height and proportion. I had never yet ...</td>\n",
       "    </tr>\n",
       "    <tr>\n",
       "      <th>3335</th>\n",
       "      <td>only you and your family, but thousands of oth...</td>\n",
       "    </tr>\n",
       "    <tr>\n",
       "      <th>4840</th>\n",
       "      <td>The thought was madness; it stirred the fiend ...</td>\n",
       "    </tr>\n",
       "    <tr>\n",
       "      <th>5698</th>\n",
       "      <td>death-warrant, be sure that you are yourself s...</td>\n",
       "    </tr>\n",
       "    <tr>\n",
       "      <th>698</th>\n",
       "      <td>\\n</td>\n",
       "    </tr>\n",
       "    <tr>\n",
       "      <th>1477</th>\n",
       "      <td>distinguished discoverers. He then took a curs...</td>\n",
       "    </tr>\n",
       "    <tr>\n",
       "      <th>3046</th>\n",
       "      <td>ecstasy of our future prospects. The first of ...</td>\n",
       "    </tr>\n",
       "    <tr>\n",
       "      <th>5545</th>\n",
       "      <td>irksome to me. Sometimes I could not prevail o...</td>\n",
       "    </tr>\n",
       "  </tbody>\n",
       "</table>\n",
       "</div>"
      ],
      "text/plain": [
       "                                                      0\n",
       "4233  of De Lacey, when her attendant fell dangerous...\n",
       "2299  your return to us; and I was at first tempted ...\n",
       "4048  was in height and proportion. I had never yet ...\n",
       "3335  only you and your family, but thousands of oth...\n",
       "4840  The thought was madness; it stirred the fiend ...\n",
       "5698  death-warrant, be sure that you are yourself s...\n",
       "698                                                  \\n\n",
       "1477  distinguished discoverers. He then took a curs...\n",
       "3046  ecstasy of our future prospects. The first of ...\n",
       "5545  irksome to me. Sometimes I could not prevail o..."
      ]
     },
     "execution_count": 13,
     "metadata": {},
     "output_type": "execute_result"
    }
   ],
   "source": [
    "text.sample(10)"
   ]
  },
  {
   "cell_type": "code",
   "execution_count": 14,
   "id": "8174f8a3-f0ba-4633-b6b3-12180a297b07",
   "metadata": {
    "tags": []
   },
   "outputs": [],
   "source": [
    "text.columns = ['line_str']"
   ]
  },
  {
   "cell_type": "code",
   "execution_count": 15,
   "id": "22ef3309-0efb-48b1-af75-8fdd5de7f83d",
   "metadata": {
    "tags": []
   },
   "outputs": [
    {
     "data": {
      "text/html": [
       "<div>\n",
       "<style scoped>\n",
       "    .dataframe tbody tr th:only-of-type {\n",
       "        vertical-align: middle;\n",
       "    }\n",
       "\n",
       "    .dataframe tbody tr th {\n",
       "        vertical-align: top;\n",
       "    }\n",
       "\n",
       "    .dataframe thead th {\n",
       "        text-align: right;\n",
       "    }\n",
       "</style>\n",
       "<table border=\"1\" class=\"dataframe\">\n",
       "  <thead>\n",
       "    <tr style=\"text-align: right;\">\n",
       "      <th></th>\n",
       "      <th>line_str</th>\n",
       "    </tr>\n",
       "  </thead>\n",
       "  <tbody>\n",
       "    <tr>\n",
       "      <th>0</th>\n",
       "      <td>﻿The Project Gutenberg EBook of Frankenstein, ...</td>\n",
       "    </tr>\n",
       "    <tr>\n",
       "      <th>1</th>\n",
       "      <td>\\n</td>\n",
       "    </tr>\n",
       "    <tr>\n",
       "      <th>2</th>\n",
       "      <td>This eBook is for the use of anyone anywhere a...</td>\n",
       "    </tr>\n",
       "    <tr>\n",
       "      <th>3</th>\n",
       "      <td>almost no restrictions whatsoever.  You may co...</td>\n",
       "    </tr>\n",
       "    <tr>\n",
       "      <th>4</th>\n",
       "      <td>re-use it under the terms of the Project Guten...</td>\n",
       "    </tr>\n",
       "  </tbody>\n",
       "</table>\n",
       "</div>"
      ],
      "text/plain": [
       "                                            line_str\n",
       "0  ﻿The Project Gutenberg EBook of Frankenstein, ...\n",
       "1                                                 \\n\n",
       "2  This eBook is for the use of anyone anywhere a...\n",
       "3  almost no restrictions whatsoever.  You may co...\n",
       "4  re-use it under the terms of the Project Guten..."
      ]
     },
     "execution_count": 15,
     "metadata": {},
     "output_type": "execute_result"
    }
   ],
   "source": [
    "text.head()"
   ]
  },
  {
   "cell_type": "code",
   "execution_count": 16,
   "id": "681a8f10-9f65-48d8-9f6b-b2b8cb801a58",
   "metadata": {
    "tags": []
   },
   "outputs": [],
   "source": [
    "text.index.name = 'line_num'"
   ]
  },
  {
   "cell_type": "code",
   "execution_count": 17,
   "id": "e6e5d9c6-2fed-40c3-ad38-dc221276c5a7",
   "metadata": {
    "tags": []
   },
   "outputs": [
    {
     "data": {
      "text/html": [
       "<div>\n",
       "<style scoped>\n",
       "    .dataframe tbody tr th:only-of-type {\n",
       "        vertical-align: middle;\n",
       "    }\n",
       "\n",
       "    .dataframe tbody tr th {\n",
       "        vertical-align: top;\n",
       "    }\n",
       "\n",
       "    .dataframe thead th {\n",
       "        text-align: right;\n",
       "    }\n",
       "</style>\n",
       "<table border=\"1\" class=\"dataframe\">\n",
       "  <thead>\n",
       "    <tr style=\"text-align: right;\">\n",
       "      <th></th>\n",
       "      <th>line_str</th>\n",
       "    </tr>\n",
       "    <tr>\n",
       "      <th>line_num</th>\n",
       "      <th></th>\n",
       "    </tr>\n",
       "  </thead>\n",
       "  <tbody>\n",
       "    <tr>\n",
       "      <th>0</th>\n",
       "      <td>﻿The Project Gutenberg EBook of Frankenstein, ...</td>\n",
       "    </tr>\n",
       "    <tr>\n",
       "      <th>1</th>\n",
       "      <td>\\n</td>\n",
       "    </tr>\n",
       "    <tr>\n",
       "      <th>2</th>\n",
       "      <td>This eBook is for the use of anyone anywhere a...</td>\n",
       "    </tr>\n",
       "    <tr>\n",
       "      <th>3</th>\n",
       "      <td>almost no restrictions whatsoever.  You may co...</td>\n",
       "    </tr>\n",
       "    <tr>\n",
       "      <th>4</th>\n",
       "      <td>re-use it under the terms of the Project Guten...</td>\n",
       "    </tr>\n",
       "  </tbody>\n",
       "</table>\n",
       "</div>"
      ],
      "text/plain": [
       "                                                   line_str\n",
       "line_num                                                   \n",
       "0         ﻿The Project Gutenberg EBook of Frankenstein, ...\n",
       "1                                                        \\n\n",
       "2         This eBook is for the use of anyone anywhere a...\n",
       "3         almost no restrictions whatsoever.  You may co...\n",
       "4         re-use it under the terms of the Project Guten..."
      ]
     },
     "execution_count": 17,
     "metadata": {},
     "output_type": "execute_result"
    }
   ],
   "source": [
    "text.head()"
   ]
  },
  {
   "cell_type": "markdown",
   "id": "3d3d023c-c0d3-4b16-935d-85bf46aae5f2",
   "metadata": {},
   "source": [
    "# 1. How many tokens does the raw text have?"
   ]
  },
  {
   "cell_type": "code",
   "execution_count": 18,
   "id": "548bc09a-c0ee-4785-88b6-2379843cedf1",
   "metadata": {
    "tags": []
   },
   "outputs": [],
   "source": [
    "text['len'] = text.line_str.str.len()"
   ]
  },
  {
   "cell_type": "code",
   "execution_count": 19,
   "id": "669ac8c2-6e94-4984-aafa-15bdd31fe8c4",
   "metadata": {
    "tags": []
   },
   "outputs": [
    {
     "data": {
      "text/plain": [
       "count    8028.000000\n",
       "mean       56.996139\n",
       "std        25.175999\n",
       "min         1.000000\n",
       "25%        63.000000\n",
       "50%        69.000000\n",
       "75%        72.000000\n",
       "max        74.000000\n",
       "Name: len, dtype: float64"
      ]
     },
     "execution_count": 19,
     "metadata": {},
     "output_type": "execute_result"
    }
   ],
   "source": [
    "text.len.describe()"
   ]
  },
  {
   "cell_type": "markdown",
   "id": "83c5d5e1-8593-4f69-9ba6-b582c84684bc",
   "metadata": {},
   "source": [
    "## The raw text has 8028 tokens. "
   ]
  },
  {
   "cell_type": "code",
   "execution_count": 20,
   "id": "dacb942b-2a68-49ab-9e3a-b8f90638f453",
   "metadata": {
    "tags": []
   },
   "outputs": [],
   "source": [
    "chunk_pat = '\\n\\n'"
   ]
  },
  {
   "cell_type": "code",
   "execution_count": 21,
   "id": "4f0449f3-b698-4c3e-b80a-6d7d785cdb31",
   "metadata": {
    "tags": []
   },
   "outputs": [],
   "source": [
    "chunks = open(src_file, 'r').read().split(chunk_pat)"
   ]
  },
  {
   "cell_type": "code",
   "execution_count": 22,
   "id": "184b4ffe-e000-4bc7-baf2-62156baf0944",
   "metadata": {
    "tags": []
   },
   "outputs": [
    {
     "data": {
      "text/plain": [
       "['\\ufeffThe Project Gutenberg EBook of Frankenstein, by Mary W. Shelley',\n",
       " 'This eBook is for the use of anyone anywhere at no cost and with\\nalmost no restrictions whatsoever.  You may copy it, give it away or\\nre-use it under the terms of the Project Gutenberg License included\\nwith this eBook or online at www.gutenberg.org',\n",
       " '\\nTitle: Frankenstein\\n       or, The Modern Prometheus',\n",
       " 'Author: Mary W. Shelley',\n",
       " 'Release Date: March 13, 2013 [EBook #42324]']"
      ]
     },
     "execution_count": 22,
     "metadata": {},
     "output_type": "execute_result"
    }
   ],
   "source": [
    "chunks[:5]"
   ]
  },
  {
   "cell_type": "code",
   "execution_count": 24,
   "id": "f81b6494-d204-4f77-9673-b90dd185b0ae",
   "metadata": {
    "tags": []
   },
   "outputs": [],
   "source": [
    "text = pd.DataFrame(chunks, columns=['chunk_str'])\n",
    "text.index.name = 'chunk_id'"
   ]
  },
  {
   "cell_type": "code",
   "execution_count": 25,
   "id": "5463dc3f-b7ba-4e55-b4e1-842bbb522e83",
   "metadata": {
    "tags": []
   },
   "outputs": [
    {
     "data": {
      "text/html": [
       "<div>\n",
       "<style scoped>\n",
       "    .dataframe tbody tr th:only-of-type {\n",
       "        vertical-align: middle;\n",
       "    }\n",
       "\n",
       "    .dataframe tbody tr th {\n",
       "        vertical-align: top;\n",
       "    }\n",
       "\n",
       "    .dataframe thead th {\n",
       "        text-align: right;\n",
       "    }\n",
       "</style>\n",
       "<table border=\"1\" class=\"dataframe\">\n",
       "  <thead>\n",
       "    <tr style=\"text-align: right;\">\n",
       "      <th></th>\n",
       "      <th>chunk_str</th>\n",
       "    </tr>\n",
       "    <tr>\n",
       "      <th>chunk_id</th>\n",
       "      <th></th>\n",
       "    </tr>\n",
       "  </thead>\n",
       "  <tbody>\n",
       "    <tr>\n",
       "      <th>0</th>\n",
       "      <td>﻿The Project Gutenberg EBook of Frankenstein, ...</td>\n",
       "    </tr>\n",
       "    <tr>\n",
       "      <th>1</th>\n",
       "      <td>This eBook is for the use of anyone anywhere a...</td>\n",
       "    </tr>\n",
       "    <tr>\n",
       "      <th>2</th>\n",
       "      <td>\\nTitle: Frankenstein\\n       or, The Modern P...</td>\n",
       "    </tr>\n",
       "    <tr>\n",
       "      <th>3</th>\n",
       "      <td>Author: Mary W. Shelley</td>\n",
       "    </tr>\n",
       "    <tr>\n",
       "      <th>4</th>\n",
       "      <td>Release Date: March 13, 2013 [EBook #42324]</td>\n",
       "    </tr>\n",
       "  </tbody>\n",
       "</table>\n",
       "</div>"
      ],
      "text/plain": [
       "                                                  chunk_str\n",
       "chunk_id                                                   \n",
       "0         ﻿The Project Gutenberg EBook of Frankenstein, ...\n",
       "1         This eBook is for the use of anyone anywhere a...\n",
       "2         \\nTitle: Frankenstein\\n       or, The Modern P...\n",
       "3                                   Author: Mary W. Shelley\n",
       "4               Release Date: March 13, 2013 [EBook #42324]"
      ]
     },
     "execution_count": 25,
     "metadata": {},
     "output_type": "execute_result"
    }
   ],
   "source": [
    "text.head()"
   ]
  },
  {
   "cell_type": "code",
   "execution_count": 26,
   "id": "b1735b8e-b2ed-4590-b5c5-59d94a65966c",
   "metadata": {
    "tags": []
   },
   "outputs": [
    {
     "data": {
      "text/plain": [
       "(942, 1)"
      ]
     },
     "execution_count": 26,
     "metadata": {},
     "output_type": "execute_result"
    }
   ],
   "source": [
    "text.shape"
   ]
  },
  {
   "cell_type": "code",
   "execution_count": 27,
   "id": "cca17948-ed56-4e5b-830c-343828e7d5aa",
   "metadata": {
    "tags": []
   },
   "outputs": [],
   "source": [
    "text.chunk_str = text.chunk_str.str.replace('\\n+', ' ', regex=True).str.strip()"
   ]
  },
  {
   "cell_type": "code",
   "execution_count": 28,
   "id": "531ada4d-e552-4f56-b671-9ea396649a1e",
   "metadata": {
    "tags": []
   },
   "outputs": [
    {
     "data": {
      "text/html": [
       "<div>\n",
       "<style scoped>\n",
       "    .dataframe tbody tr th:only-of-type {\n",
       "        vertical-align: middle;\n",
       "    }\n",
       "\n",
       "    .dataframe tbody tr th {\n",
       "        vertical-align: top;\n",
       "    }\n",
       "\n",
       "    .dataframe thead th {\n",
       "        text-align: right;\n",
       "    }\n",
       "</style>\n",
       "<table border=\"1\" class=\"dataframe\">\n",
       "  <thead>\n",
       "    <tr style=\"text-align: right;\">\n",
       "      <th></th>\n",
       "      <th>chunk_str</th>\n",
       "    </tr>\n",
       "    <tr>\n",
       "      <th>chunk_id</th>\n",
       "      <th></th>\n",
       "    </tr>\n",
       "  </thead>\n",
       "  <tbody>\n",
       "    <tr>\n",
       "      <th>0</th>\n",
       "      <td>﻿The Project Gutenberg EBook of Frankenstein, ...</td>\n",
       "    </tr>\n",
       "    <tr>\n",
       "      <th>1</th>\n",
       "      <td>This eBook is for the use of anyone anywhere a...</td>\n",
       "    </tr>\n",
       "    <tr>\n",
       "      <th>2</th>\n",
       "      <td>Title: Frankenstein        or, The Modern Prom...</td>\n",
       "    </tr>\n",
       "    <tr>\n",
       "      <th>3</th>\n",
       "      <td>Author: Mary W. Shelley</td>\n",
       "    </tr>\n",
       "    <tr>\n",
       "      <th>4</th>\n",
       "      <td>Release Date: March 13, 2013 [EBook #42324]</td>\n",
       "    </tr>\n",
       "  </tbody>\n",
       "</table>\n",
       "</div>"
      ],
      "text/plain": [
       "                                                  chunk_str\n",
       "chunk_id                                                   \n",
       "0         ﻿The Project Gutenberg EBook of Frankenstein, ...\n",
       "1         This eBook is for the use of anyone anywhere a...\n",
       "2         Title: Frankenstein        or, The Modern Prom...\n",
       "3                                   Author: Mary W. Shelley\n",
       "4               Release Date: March 13, 2013 [EBook #42324]"
      ]
     },
     "execution_count": 28,
     "metadata": {},
     "output_type": "execute_result"
    }
   ],
   "source": [
    "text.head()"
   ]
  },
  {
   "cell_type": "code",
   "execution_count": 29,
   "id": "02f73e7c-83b6-425c-9019-38c30027e885",
   "metadata": {
    "tags": []
   },
   "outputs": [],
   "source": [
    "K = text.chunk_str.str.split(expand=True).stack().to_frame('token_str')\n",
    "K.index.names = ['chunk_num', 'token_num']"
   ]
  },
  {
   "cell_type": "code",
   "execution_count": 30,
   "id": "901ca46a-7792-4347-bf39-6660e0e65620",
   "metadata": {
    "tags": []
   },
   "outputs": [
    {
     "data": {
      "text/html": [
       "<div>\n",
       "<style scoped>\n",
       "    .dataframe tbody tr th:only-of-type {\n",
       "        vertical-align: middle;\n",
       "    }\n",
       "\n",
       "    .dataframe tbody tr th {\n",
       "        vertical-align: top;\n",
       "    }\n",
       "\n",
       "    .dataframe thead th {\n",
       "        text-align: right;\n",
       "    }\n",
       "</style>\n",
       "<table border=\"1\" class=\"dataframe\">\n",
       "  <thead>\n",
       "    <tr style=\"text-align: right;\">\n",
       "      <th></th>\n",
       "      <th></th>\n",
       "      <th>token_str</th>\n",
       "    </tr>\n",
       "    <tr>\n",
       "      <th>chunk_num</th>\n",
       "      <th>token_num</th>\n",
       "      <th></th>\n",
       "    </tr>\n",
       "  </thead>\n",
       "  <tbody>\n",
       "    <tr>\n",
       "      <th rowspan=\"5\" valign=\"top\">0</th>\n",
       "      <th>0</th>\n",
       "      <td>﻿The</td>\n",
       "    </tr>\n",
       "    <tr>\n",
       "      <th>1</th>\n",
       "      <td>Project</td>\n",
       "    </tr>\n",
       "    <tr>\n",
       "      <th>2</th>\n",
       "      <td>Gutenberg</td>\n",
       "    </tr>\n",
       "    <tr>\n",
       "      <th>3</th>\n",
       "      <td>EBook</td>\n",
       "    </tr>\n",
       "    <tr>\n",
       "      <th>4</th>\n",
       "      <td>of</td>\n",
       "    </tr>\n",
       "    <tr>\n",
       "      <th>...</th>\n",
       "      <th>...</th>\n",
       "      <td>...</td>\n",
       "    </tr>\n",
       "    <tr>\n",
       "      <th rowspan=\"5\" valign=\"top\">941</th>\n",
       "      <th>35</th>\n",
       "      <td>to</td>\n",
       "    </tr>\n",
       "    <tr>\n",
       "      <th>36</th>\n",
       "      <td>hear</td>\n",
       "    </tr>\n",
       "    <tr>\n",
       "      <th>37</th>\n",
       "      <td>about</td>\n",
       "    </tr>\n",
       "    <tr>\n",
       "      <th>38</th>\n",
       "      <td>new</td>\n",
       "    </tr>\n",
       "    <tr>\n",
       "      <th>39</th>\n",
       "      <td>eBooks.</td>\n",
       "    </tr>\n",
       "  </tbody>\n",
       "</table>\n",
       "<p>80985 rows × 1 columns</p>\n",
       "</div>"
      ],
      "text/plain": [
       "                     token_str\n",
       "chunk_num token_num           \n",
       "0         0               ﻿The\n",
       "          1            Project\n",
       "          2          Gutenberg\n",
       "          3              EBook\n",
       "          4                 of\n",
       "...                        ...\n",
       "941       35                to\n",
       "          36              hear\n",
       "          37             about\n",
       "          38               new\n",
       "          39           eBooks.\n",
       "\n",
       "[80985 rows x 1 columns]"
      ]
     },
     "execution_count": 30,
     "metadata": {},
     "output_type": "execute_result"
    }
   ],
   "source": [
    "K"
   ]
  },
  {
   "cell_type": "code",
   "execution_count": 31,
   "id": "1d4748df-dbe3-4108-a965-97613a0e5618",
   "metadata": {
    "tags": []
   },
   "outputs": [],
   "source": [
    "K['term_str'] = K.token_str.str.replace(r'\\W+', '', regex=True).str.lower()"
   ]
  },
  {
   "cell_type": "code",
   "execution_count": null,
   "id": "49e36307-1c8f-4c67-a447-4bd37347cc30",
   "metadata": {},
   "outputs": [],
   "source": []
  },
  {
   "cell_type": "code",
   "execution_count": 32,
   "id": "5f314c45-2b0c-4d6d-9b8f-e442b27f3d4c",
   "metadata": {
    "tags": []
   },
   "outputs": [
    {
     "data": {
      "text/html": [
       "<div>\n",
       "<style scoped>\n",
       "    .dataframe tbody tr th:only-of-type {\n",
       "        vertical-align: middle;\n",
       "    }\n",
       "\n",
       "    .dataframe tbody tr th {\n",
       "        vertical-align: top;\n",
       "    }\n",
       "\n",
       "    .dataframe thead th {\n",
       "        text-align: right;\n",
       "    }\n",
       "</style>\n",
       "<table border=\"1\" class=\"dataframe\">\n",
       "  <thead>\n",
       "    <tr style=\"text-align: right;\">\n",
       "      <th></th>\n",
       "      <th></th>\n",
       "      <th>token_str</th>\n",
       "      <th>term_str</th>\n",
       "    </tr>\n",
       "    <tr>\n",
       "      <th>chunk_num</th>\n",
       "      <th>token_num</th>\n",
       "      <th></th>\n",
       "      <th></th>\n",
       "    </tr>\n",
       "  </thead>\n",
       "  <tbody>\n",
       "    <tr>\n",
       "      <th>482</th>\n",
       "      <th>142</th>\n",
       "      <td>massacring</td>\n",
       "      <td>massacring</td>\n",
       "    </tr>\n",
       "    <tr>\n",
       "      <th>519</th>\n",
       "      <th>9</th>\n",
       "      <td>not</td>\n",
       "      <td>not</td>\n",
       "    </tr>\n",
       "    <tr>\n",
       "      <th>471</th>\n",
       "      <th>50</th>\n",
       "      <td>her</td>\n",
       "      <td>her</td>\n",
       "    </tr>\n",
       "    <tr>\n",
       "      <th>289</th>\n",
       "      <th>26</th>\n",
       "      <td>the</td>\n",
       "      <td>the</td>\n",
       "    </tr>\n",
       "    <tr>\n",
       "      <th>816</th>\n",
       "      <th>87</th>\n",
       "      <td>during</td>\n",
       "      <td>during</td>\n",
       "    </tr>\n",
       "    <tr>\n",
       "      <th>99</th>\n",
       "      <th>17</th>\n",
       "      <td>and</td>\n",
       "      <td>and</td>\n",
       "    </tr>\n",
       "    <tr>\n",
       "      <th>208</th>\n",
       "      <th>269</th>\n",
       "      <td>I</td>\n",
       "      <td>i</td>\n",
       "    </tr>\n",
       "    <tr>\n",
       "      <th>617</th>\n",
       "      <th>98</th>\n",
       "      <td>resources</td>\n",
       "      <td>resources</td>\n",
       "    </tr>\n",
       "    <tr>\n",
       "      <th>744</th>\n",
       "      <th>53</th>\n",
       "      <td>heavenly</td>\n",
       "      <td>heavenly</td>\n",
       "    </tr>\n",
       "    <tr>\n",
       "      <th>37</th>\n",
       "      <th>44</th>\n",
       "      <td>pages</td>\n",
       "      <td>pages</td>\n",
       "    </tr>\n",
       "  </tbody>\n",
       "</table>\n",
       "</div>"
      ],
      "text/plain": [
       "                      token_str    term_str\n",
       "chunk_num token_num                        \n",
       "482       142        massacring  massacring\n",
       "519       9                 not         not\n",
       "471       50                her         her\n",
       "289       26                the         the\n",
       "816       87             during      during\n",
       "99        17                and         and\n",
       "208       269                 I           i\n",
       "617       98          resources   resources\n",
       "744       53           heavenly    heavenly\n",
       "37        44              pages       pages"
      ]
     },
     "execution_count": 32,
     "metadata": {},
     "output_type": "execute_result"
    }
   ],
   "source": [
    "K.sample(10)"
   ]
  },
  {
   "cell_type": "markdown",
   "id": "f1a4c976-8649-48a8-b74c-08c8f5289e9e",
   "metadata": {},
   "source": [
    "# 2. What is the most frequent pronoun in the text?"
   ]
  },
  {
   "cell_type": "code",
   "execution_count": 33,
   "id": "c8783ab0-aa19-46f1-878e-60e9516a66d9",
   "metadata": {
    "tags": []
   },
   "outputs": [],
   "source": [
    "V = K.term_str.value_counts().to_frame('n')\n",
    "V.index.name = 'term_str'"
   ]
  },
  {
   "cell_type": "code",
   "execution_count": 35,
   "id": "577539fb-4dd4-4eec-b114-b793d3065206",
   "metadata": {
    "tags": []
   },
   "outputs": [
    {
     "data": {
      "text/html": [
       "<div>\n",
       "<style scoped>\n",
       "    .dataframe tbody tr th:only-of-type {\n",
       "        vertical-align: middle;\n",
       "    }\n",
       "\n",
       "    .dataframe tbody tr th {\n",
       "        vertical-align: top;\n",
       "    }\n",
       "\n",
       "    .dataframe thead th {\n",
       "        text-align: right;\n",
       "    }\n",
       "</style>\n",
       "<table border=\"1\" class=\"dataframe\">\n",
       "  <thead>\n",
       "    <tr style=\"text-align: right;\">\n",
       "      <th></th>\n",
       "      <th>n</th>\n",
       "    </tr>\n",
       "    <tr>\n",
       "      <th>term_str</th>\n",
       "      <th></th>\n",
       "    </tr>\n",
       "  </thead>\n",
       "  <tbody>\n",
       "    <tr>\n",
       "      <th>the</th>\n",
       "      <td>4575</td>\n",
       "    </tr>\n",
       "    <tr>\n",
       "      <th>and</th>\n",
       "      <td>3120</td>\n",
       "    </tr>\n",
       "    <tr>\n",
       "      <th>of</th>\n",
       "      <td>2918</td>\n",
       "    </tr>\n",
       "    <tr>\n",
       "      <th>i</th>\n",
       "      <td>2918</td>\n",
       "    </tr>\n",
       "    <tr>\n",
       "      <th>to</th>\n",
       "      <td>2257</td>\n",
       "    </tr>\n",
       "    <tr>\n",
       "      <th>my</th>\n",
       "      <td>1819</td>\n",
       "    </tr>\n",
       "    <tr>\n",
       "      <th>a</th>\n",
       "      <td>1497</td>\n",
       "    </tr>\n",
       "    <tr>\n",
       "      <th>in</th>\n",
       "      <td>1232</td>\n",
       "    </tr>\n",
       "    <tr>\n",
       "      <th>was</th>\n",
       "      <td>1064</td>\n",
       "    </tr>\n",
       "    <tr>\n",
       "      <th>that</th>\n",
       "      <td>1060</td>\n",
       "    </tr>\n",
       "    <tr>\n",
       "      <th>me</th>\n",
       "      <td>876</td>\n",
       "    </tr>\n",
       "    <tr>\n",
       "      <th>with</th>\n",
       "      <td>736</td>\n",
       "    </tr>\n",
       "    <tr>\n",
       "      <th>but</th>\n",
       "      <td>711</td>\n",
       "    </tr>\n",
       "    <tr>\n",
       "      <th>had</th>\n",
       "      <td>704</td>\n",
       "    </tr>\n",
       "    <tr>\n",
       "      <th>you</th>\n",
       "      <td>638</td>\n",
       "    </tr>\n",
       "  </tbody>\n",
       "</table>\n",
       "</div>"
      ],
      "text/plain": [
       "             n\n",
       "term_str      \n",
       "the       4575\n",
       "and       3120\n",
       "of        2918\n",
       "i         2918\n",
       "to        2257\n",
       "my        1819\n",
       "a         1497\n",
       "in        1232\n",
       "was       1064\n",
       "that      1060\n",
       "me         876\n",
       "with       736\n",
       "but        711\n",
       "had        704\n",
       "you        638"
      ]
     },
     "execution_count": 35,
     "metadata": {},
     "output_type": "execute_result"
    }
   ],
   "source": [
    "V.head(15)"
   ]
  },
  {
   "cell_type": "markdown",
   "id": "5e95248c-76c0-48dd-bc16-cfcb10fcbc52",
   "metadata": {},
   "source": [
    "## The most frequent pronoun in the text is 'me'."
   ]
  },
  {
   "cell_type": "markdown",
   "id": "cc6a8880-4420-419a-92e5-c1f6488e08a0",
   "metadata": {},
   "source": [
    "# 3. Which subject pronoun is most frequent in the text we imported in class? "
   ]
  },
  {
   "cell_type": "markdown",
   "id": "241fad0a-94c9-45b6-be3e-1bc4fb4a29d3",
   "metadata": {},
   "source": [
    "## The most common subject pronoun in the text from class is 'she'."
   ]
  },
  {
   "cell_type": "markdown",
   "id": "8689c12a-3335-4e7b-8144-3cfbecc59a5e",
   "metadata": {},
   "source": [
    "# 4. Provide a brief explanation for this difference, based on what you may know about the two novels."
   ]
  },
  {
   "cell_type": "markdown",
   "id": "e00a474c-3163-4245-932e-52bc89298d3e",
   "metadata": {},
   "source": [
    "## I believe this is because Frankenstein is written in first person and Persuasion is written in third person point of view. The narrator in Frankenstein is talking about themselves, and therefore they would use the word 'me' frequently, whereas in Persuasion, the narrator is not a character in the story, so they would not mention themselves."
   ]
  }
 ],
 "metadata": {
  "kernelspec": {
   "display_name": "Python 3 (ipykernel)",
   "language": "python",
   "name": "python3"
  },
  "language_info": {
   "codemirror_mode": {
    "name": "ipython",
    "version": 3
   },
   "file_extension": ".py",
   "mimetype": "text/x-python",
   "name": "python",
   "nbconvert_exporter": "python",
   "pygments_lexer": "ipython3",
   "version": "3.11.4"
  }
 },
 "nbformat": 4,
 "nbformat_minor": 5
}
