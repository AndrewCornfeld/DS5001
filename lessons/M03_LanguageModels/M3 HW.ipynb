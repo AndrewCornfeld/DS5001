{
 "cells": [
  {
   "cell_type": "markdown",
   "id": "e68bf803-9ec5-451a-b161-e0feb9622064",
   "metadata": {},
   "source": [
    "# Module 3 Homework"
   ]
  },
  {
   "cell_type": "code",
   "execution_count": 2,
   "id": "f6162ddc-a0d8-4a81-acfd-580309a6bea9",
   "metadata": {
    "tags": []
   },
   "outputs": [],
   "source": [
    "import re\n",
    "import pandas as pd\n",
    "import numpy as np\n",
    "import seaborn as sns\n",
    "from IPython.core.display import HTML"
   ]
  },
  {
   "cell_type": "code",
   "execution_count": 3,
   "id": "845380c1-602b-49eb-9263-88ccdbcd47d6",
   "metadata": {
    "tags": []
   },
   "outputs": [],
   "source": [
    "sns.set()"
   ]
  },
  {
   "cell_type": "code",
   "execution_count": 4,
   "id": "b4747b69-9f4e-4e69-8480-2a1cb098a009",
   "metadata": {
    "tags": []
   },
   "outputs": [],
   "source": [
    "import configparser\n",
    "config = configparser.ConfigParser()"
   ]
  },
  {
   "cell_type": "code",
   "execution_count": 5,
   "id": "a9be859f-7147-4770-a85c-9aea8c11c90b",
   "metadata": {
    "tags": []
   },
   "outputs": [],
   "source": [
    "config.read(\"../../../env.ini\")\n",
    "data_home = config['DEFAULT']['data_home']\n",
    "output_dir = config['DEFAULT']['output_dir']"
   ]
  },
  {
   "cell_type": "code",
   "execution_count": 6,
   "id": "a8c82bec-0a91-4436-b7a0-966e746095ff",
   "metadata": {
    "tags": []
   },
   "outputs": [
    {
     "data": {
      "text/plain": [
       "('/home/cpm6gh/Documents/MSDS/DS5001/data',\n",
       " '/home/cpm6gh/Documents/MSDS/DS5001/output')"
      ]
     },
     "execution_count": 6,
     "metadata": {},
     "output_type": "execute_result"
    }
   ],
   "source": [
    "data_home, output_dir"
   ]
  },
  {
   "cell_type": "code",
   "execution_count": 7,
   "id": "f53c53b0-1436-434e-8133-6849c7a60a13",
   "metadata": {
    "tags": []
   },
   "outputs": [],
   "source": [
    "ngram_order = 3\n",
    "widx = [f\"w{i}\" for i in range(ngram_order)]"
   ]
  },
  {
   "cell_type": "code",
   "execution_count": 8,
   "id": "9b2ee14a-8b2e-4c49-9448-5b82aeff3ed7",
   "metadata": {
    "tags": []
   },
   "outputs": [
    {
     "data": {
      "text/plain": [
       "['w0', 'w1', 'w2']"
      ]
     },
     "execution_count": 8,
     "metadata": {},
     "output_type": "execute_result"
    }
   ],
   "source": [
    "widx"
   ]
  },
  {
   "cell_type": "code",
   "execution_count": 9,
   "id": "20a332fd-953e-4333-917a-5158aee1ec8c",
   "metadata": {
    "tags": []
   },
   "outputs": [],
   "source": [
    "OHCO = ['chap_num','para_num','sent_num','token_num']"
   ]
  },
  {
   "cell_type": "code",
   "execution_count": 10,
   "id": "ee03acb3-d68e-4722-9908-a82db88df014",
   "metadata": {
    "tags": []
   },
   "outputs": [],
   "source": [
    "text_file = f\"{data_home}/gutenberg/pg42324.txt\""
   ]
  },
  {
   "cell_type": "code",
   "execution_count": 11,
   "id": "71093a13-5261-4a54-b362-242437141aa3",
   "metadata": {
    "tags": []
   },
   "outputs": [],
   "source": [
    "LINES = pd.DataFrame(open(text_file, 'r', encoding='utf-8-sig').readlines(), columns=['line_str'])\n",
    "LINES.index.name = 'line_num'\n",
    "LINES.line_str = LINES.line_str.str.replace(r'\\n+', ' ', regex=True).str.strip()"
   ]
  },
  {
   "cell_type": "code",
   "execution_count": 12,
   "id": "660e69f8-9646-489f-b929-d5b80a1bddb9",
   "metadata": {
    "tags": []
   },
   "outputs": [],
   "source": [
    "title = LINES.loc[0].line_str.replace('The Project Gutenberg EBook of ', '')"
   ]
  },
  {
   "cell_type": "code",
   "execution_count": 13,
   "id": "6ef38b91-4cd3-42f5-9ac0-62e688d45c25",
   "metadata": {
    "tags": []
   },
   "outputs": [],
   "source": [
    "clip_pats = [\n",
    "    r\"\\*\\*\\*\\s*START OF (?:THE|THIS) PROJECT\",\n",
    "    r\"\\*\\*\\*\\s*END OF (?:THE|THIS) PROJECT\"\n",
    "]"
   ]
  },
  {
   "cell_type": "code",
   "execution_count": 14,
   "id": "f89742ad-309c-4588-8bda-51a53f369a3c",
   "metadata": {
    "tags": []
   },
   "outputs": [],
   "source": [
    "pat_a = LINES.line_str.str.match(clip_pats[0])\n",
    "pat_b = LINES.line_str.str.match(clip_pats[1])"
   ]
  },
  {
   "cell_type": "code",
   "execution_count": 15,
   "id": "9309640c-0c97-4f31-880b-3f2d73be951c",
   "metadata": {
    "tags": []
   },
   "outputs": [],
   "source": [
    "line_a = LINES.loc[pat_a].index[0] + 1\n",
    "line_b = LINES.loc[pat_b].index[0] - 1"
   ]
  },
  {
   "cell_type": "code",
   "execution_count": 16,
   "id": "3cae90af-b1de-4ddd-a2c8-0d1d905a276f",
   "metadata": {
    "tags": []
   },
   "outputs": [
    {
     "data": {
      "text/plain": [
       "(19, 7671)"
      ]
     },
     "execution_count": 16,
     "metadata": {},
     "output_type": "execute_result"
    }
   ],
   "source": [
    "line_a, line_b"
   ]
  },
  {
   "cell_type": "code",
   "execution_count": 17,
   "id": "97815b7b-c574-4498-ab6f-44542810bc9c",
   "metadata": {
    "tags": []
   },
   "outputs": [],
   "source": [
    "LINES = LINES.loc[line_a : line_b]"
   ]
  },
  {
   "cell_type": "code",
   "execution_count": 18,
   "id": "6308482c-938a-453b-b2e6-428bc674e160",
   "metadata": {
    "tags": []
   },
   "outputs": [],
   "source": [
    "chap_pat = r\"^\\s*(?:PREFACE|(?:chapter|LETTER)\\s+(?:I|X|V|L|C| )+)\"\n"
   ]
  },
  {
   "cell_type": "code",
   "execution_count": 19,
   "id": "bad1caee-cdec-4d9b-880f-b765d3cb7e82",
   "metadata": {
    "tags": []
   },
   "outputs": [],
   "source": [
    "chap_lines = LINES.line_str.str.match(chap_pat, case=False) # Returns a truth vector"
   ]
  },
  {
   "cell_type": "code",
   "execution_count": 20,
   "id": "511500d4-3955-4edd-afd8-0caba99a0102",
   "metadata": {
    "tags": []
   },
   "outputs": [
    {
     "data": {
      "text/html": [
       "<div>\n",
       "<style scoped>\n",
       "    .dataframe tbody tr th:only-of-type {\n",
       "        vertical-align: middle;\n",
       "    }\n",
       "\n",
       "    .dataframe tbody tr th {\n",
       "        vertical-align: top;\n",
       "    }\n",
       "\n",
       "    .dataframe thead th {\n",
       "        text-align: right;\n",
       "    }\n",
       "</style>\n",
       "<table border=\"1\" class=\"dataframe\">\n",
       "  <thead>\n",
       "    <tr style=\"text-align: right;\">\n",
       "      <th></th>\n",
       "      <th>line_str</th>\n",
       "    </tr>\n",
       "    <tr>\n",
       "      <th>line_num</th>\n",
       "      <th></th>\n",
       "    </tr>\n",
       "  </thead>\n",
       "  <tbody>\n",
       "    <tr>\n",
       "      <th>271</th>\n",
       "      <td>PREFACE.</td>\n",
       "    </tr>\n",
       "    <tr>\n",
       "      <th>343</th>\n",
       "      <td>LETTER I.</td>\n",
       "    </tr>\n",
       "    <tr>\n",
       "      <th>467</th>\n",
       "      <td>LETTER II.</td>\n",
       "    </tr>\n",
       "    <tr>\n",
       "      <th>594</th>\n",
       "      <td>LETTER III.</td>\n",
       "    </tr>\n",
       "    <tr>\n",
       "      <th>636</th>\n",
       "      <td>LETTER IV.</td>\n",
       "    </tr>\n",
       "    <tr>\n",
       "      <th>918</th>\n",
       "      <td>CHAPTER I.</td>\n",
       "    </tr>\n",
       "    <tr>\n",
       "      <th>1085</th>\n",
       "      <td>CHAPTER II.</td>\n",
       "    </tr>\n",
       "    <tr>\n",
       "      <th>1299</th>\n",
       "      <td>CHAPTER III.</td>\n",
       "    </tr>\n",
       "    <tr>\n",
       "      <th>1555</th>\n",
       "      <td>CHAPTER IV.</td>\n",
       "    </tr>\n",
       "    <tr>\n",
       "      <th>1789</th>\n",
       "      <td>CHAPTER V.</td>\n",
       "    </tr>\n",
       "    <tr>\n",
       "      <th>2028</th>\n",
       "      <td>CHAPTER VI.</td>\n",
       "    </tr>\n",
       "    <tr>\n",
       "      <th>2292</th>\n",
       "      <td>CHAPTER VII.</td>\n",
       "    </tr>\n",
       "    <tr>\n",
       "      <th>2655</th>\n",
       "      <td>CHAPTER VIII.</td>\n",
       "    </tr>\n",
       "    <tr>\n",
       "      <th>2958</th>\n",
       "      <td>CHAPTER IX.</td>\n",
       "    </tr>\n",
       "    <tr>\n",
       "      <th>3165</th>\n",
       "      <td>CHAPTER X.</td>\n",
       "    </tr>\n",
       "    <tr>\n",
       "      <th>3385</th>\n",
       "      <td>CHAPTER XI.</td>\n",
       "    </tr>\n",
       "    <tr>\n",
       "      <th>3651</th>\n",
       "      <td>CHAPTER XII.</td>\n",
       "    </tr>\n",
       "    <tr>\n",
       "      <th>3856</th>\n",
       "      <td>CHAPTER XIII.</td>\n",
       "    </tr>\n",
       "    <tr>\n",
       "      <th>4061</th>\n",
       "      <td>CHAPTER XIV.</td>\n",
       "    </tr>\n",
       "    <tr>\n",
       "      <th>4245</th>\n",
       "      <td>CHAPTER XV.</td>\n",
       "    </tr>\n",
       "    <tr>\n",
       "      <th>4552</th>\n",
       "      <td>CHAPTER XVI.</td>\n",
       "    </tr>\n",
       "    <tr>\n",
       "      <th>4861</th>\n",
       "      <td>CHAPTER XVII.</td>\n",
       "    </tr>\n",
       "    <tr>\n",
       "      <th>5046</th>\n",
       "      <td>CHAPTER XVIII.</td>\n",
       "    </tr>\n",
       "    <tr>\n",
       "      <th>5324</th>\n",
       "      <td>CHAPTER XIX.</td>\n",
       "    </tr>\n",
       "    <tr>\n",
       "      <th>5572</th>\n",
       "      <td>CHAPTER XX.</td>\n",
       "    </tr>\n",
       "    <tr>\n",
       "      <th>5905</th>\n",
       "      <td>CHAPTER XXI.</td>\n",
       "    </tr>\n",
       "    <tr>\n",
       "      <th>6274</th>\n",
       "      <td>CHAPTER XXII.</td>\n",
       "    </tr>\n",
       "    <tr>\n",
       "      <th>6615</th>\n",
       "      <td>CHAPTER XXIII.</td>\n",
       "    </tr>\n",
       "    <tr>\n",
       "      <th>6867</th>\n",
       "      <td>CHAPTER XXIV.</td>\n",
       "    </tr>\n",
       "  </tbody>\n",
       "</table>\n",
       "</div>"
      ],
      "text/plain": [
       "                line_str\n",
       "line_num                \n",
       "271             PREFACE.\n",
       "343            LETTER I.\n",
       "467           LETTER II.\n",
       "594          LETTER III.\n",
       "636           LETTER IV.\n",
       "918           CHAPTER I.\n",
       "1085         CHAPTER II.\n",
       "1299        CHAPTER III.\n",
       "1555         CHAPTER IV.\n",
       "1789          CHAPTER V.\n",
       "2028         CHAPTER VI.\n",
       "2292        CHAPTER VII.\n",
       "2655       CHAPTER VIII.\n",
       "2958         CHAPTER IX.\n",
       "3165          CHAPTER X.\n",
       "3385         CHAPTER XI.\n",
       "3651        CHAPTER XII.\n",
       "3856       CHAPTER XIII.\n",
       "4061        CHAPTER XIV.\n",
       "4245         CHAPTER XV.\n",
       "4552        CHAPTER XVI.\n",
       "4861       CHAPTER XVII.\n",
       "5046      CHAPTER XVIII.\n",
       "5324        CHAPTER XIX.\n",
       "5572         CHAPTER XX.\n",
       "5905        CHAPTER XXI.\n",
       "6274       CHAPTER XXII.\n",
       "6615      CHAPTER XXIII.\n",
       "6867       CHAPTER XXIV."
      ]
     },
     "execution_count": 20,
     "metadata": {},
     "output_type": "execute_result"
    }
   ],
   "source": [
    "LINES.loc[chap_lines]"
   ]
  },
  {
   "cell_type": "code",
   "execution_count": 21,
   "id": "e783cf21-3e5f-40fe-af18-bc147132467e",
   "metadata": {
    "tags": []
   },
   "outputs": [],
   "source": [
    "LINES.loc[chap_lines, 'chap_num'] = [i+1 for i in range(LINES.loc[chap_lines].shape[0])]"
   ]
  },
  {
   "cell_type": "code",
   "execution_count": 22,
   "id": "c5db18fe-74a5-4fb0-9b0d-0f60a4a4fc29",
   "metadata": {
    "tags": []
   },
   "outputs": [
    {
     "data": {
      "text/html": [
       "<div>\n",
       "<style scoped>\n",
       "    .dataframe tbody tr th:only-of-type {\n",
       "        vertical-align: middle;\n",
       "    }\n",
       "\n",
       "    .dataframe tbody tr th {\n",
       "        vertical-align: top;\n",
       "    }\n",
       "\n",
       "    .dataframe thead th {\n",
       "        text-align: right;\n",
       "    }\n",
       "</style>\n",
       "<table border=\"1\" class=\"dataframe\">\n",
       "  <thead>\n",
       "    <tr style=\"text-align: right;\">\n",
       "      <th></th>\n",
       "      <th>line_str</th>\n",
       "      <th>chap_num</th>\n",
       "    </tr>\n",
       "    <tr>\n",
       "      <th>line_num</th>\n",
       "      <th></th>\n",
       "      <th></th>\n",
       "    </tr>\n",
       "  </thead>\n",
       "  <tbody>\n",
       "    <tr>\n",
       "      <th>271</th>\n",
       "      <td>PREFACE.</td>\n",
       "      <td>1.0</td>\n",
       "    </tr>\n",
       "    <tr>\n",
       "      <th>343</th>\n",
       "      <td>LETTER I.</td>\n",
       "      <td>2.0</td>\n",
       "    </tr>\n",
       "    <tr>\n",
       "      <th>467</th>\n",
       "      <td>LETTER II.</td>\n",
       "      <td>3.0</td>\n",
       "    </tr>\n",
       "    <tr>\n",
       "      <th>594</th>\n",
       "      <td>LETTER III.</td>\n",
       "      <td>4.0</td>\n",
       "    </tr>\n",
       "    <tr>\n",
       "      <th>636</th>\n",
       "      <td>LETTER IV.</td>\n",
       "      <td>5.0</td>\n",
       "    </tr>\n",
       "    <tr>\n",
       "      <th>918</th>\n",
       "      <td>CHAPTER I.</td>\n",
       "      <td>6.0</td>\n",
       "    </tr>\n",
       "    <tr>\n",
       "      <th>1085</th>\n",
       "      <td>CHAPTER II.</td>\n",
       "      <td>7.0</td>\n",
       "    </tr>\n",
       "    <tr>\n",
       "      <th>1299</th>\n",
       "      <td>CHAPTER III.</td>\n",
       "      <td>8.0</td>\n",
       "    </tr>\n",
       "    <tr>\n",
       "      <th>1555</th>\n",
       "      <td>CHAPTER IV.</td>\n",
       "      <td>9.0</td>\n",
       "    </tr>\n",
       "    <tr>\n",
       "      <th>1789</th>\n",
       "      <td>CHAPTER V.</td>\n",
       "      <td>10.0</td>\n",
       "    </tr>\n",
       "    <tr>\n",
       "      <th>2028</th>\n",
       "      <td>CHAPTER VI.</td>\n",
       "      <td>11.0</td>\n",
       "    </tr>\n",
       "    <tr>\n",
       "      <th>2292</th>\n",
       "      <td>CHAPTER VII.</td>\n",
       "      <td>12.0</td>\n",
       "    </tr>\n",
       "    <tr>\n",
       "      <th>2655</th>\n",
       "      <td>CHAPTER VIII.</td>\n",
       "      <td>13.0</td>\n",
       "    </tr>\n",
       "    <tr>\n",
       "      <th>2958</th>\n",
       "      <td>CHAPTER IX.</td>\n",
       "      <td>14.0</td>\n",
       "    </tr>\n",
       "    <tr>\n",
       "      <th>3165</th>\n",
       "      <td>CHAPTER X.</td>\n",
       "      <td>15.0</td>\n",
       "    </tr>\n",
       "    <tr>\n",
       "      <th>3385</th>\n",
       "      <td>CHAPTER XI.</td>\n",
       "      <td>16.0</td>\n",
       "    </tr>\n",
       "    <tr>\n",
       "      <th>3651</th>\n",
       "      <td>CHAPTER XII.</td>\n",
       "      <td>17.0</td>\n",
       "    </tr>\n",
       "    <tr>\n",
       "      <th>3856</th>\n",
       "      <td>CHAPTER XIII.</td>\n",
       "      <td>18.0</td>\n",
       "    </tr>\n",
       "    <tr>\n",
       "      <th>4061</th>\n",
       "      <td>CHAPTER XIV.</td>\n",
       "      <td>19.0</td>\n",
       "    </tr>\n",
       "    <tr>\n",
       "      <th>4245</th>\n",
       "      <td>CHAPTER XV.</td>\n",
       "      <td>20.0</td>\n",
       "    </tr>\n",
       "    <tr>\n",
       "      <th>4552</th>\n",
       "      <td>CHAPTER XVI.</td>\n",
       "      <td>21.0</td>\n",
       "    </tr>\n",
       "    <tr>\n",
       "      <th>4861</th>\n",
       "      <td>CHAPTER XVII.</td>\n",
       "      <td>22.0</td>\n",
       "    </tr>\n",
       "    <tr>\n",
       "      <th>5046</th>\n",
       "      <td>CHAPTER XVIII.</td>\n",
       "      <td>23.0</td>\n",
       "    </tr>\n",
       "    <tr>\n",
       "      <th>5324</th>\n",
       "      <td>CHAPTER XIX.</td>\n",
       "      <td>24.0</td>\n",
       "    </tr>\n",
       "    <tr>\n",
       "      <th>5572</th>\n",
       "      <td>CHAPTER XX.</td>\n",
       "      <td>25.0</td>\n",
       "    </tr>\n",
       "    <tr>\n",
       "      <th>5905</th>\n",
       "      <td>CHAPTER XXI.</td>\n",
       "      <td>26.0</td>\n",
       "    </tr>\n",
       "    <tr>\n",
       "      <th>6274</th>\n",
       "      <td>CHAPTER XXII.</td>\n",
       "      <td>27.0</td>\n",
       "    </tr>\n",
       "    <tr>\n",
       "      <th>6615</th>\n",
       "      <td>CHAPTER XXIII.</td>\n",
       "      <td>28.0</td>\n",
       "    </tr>\n",
       "    <tr>\n",
       "      <th>6867</th>\n",
       "      <td>CHAPTER XXIV.</td>\n",
       "      <td>29.0</td>\n",
       "    </tr>\n",
       "  </tbody>\n",
       "</table>\n",
       "</div>"
      ],
      "text/plain": [
       "                line_str  chap_num\n",
       "line_num                          \n",
       "271             PREFACE.       1.0\n",
       "343            LETTER I.       2.0\n",
       "467           LETTER II.       3.0\n",
       "594          LETTER III.       4.0\n",
       "636           LETTER IV.       5.0\n",
       "918           CHAPTER I.       6.0\n",
       "1085         CHAPTER II.       7.0\n",
       "1299        CHAPTER III.       8.0\n",
       "1555         CHAPTER IV.       9.0\n",
       "1789          CHAPTER V.      10.0\n",
       "2028         CHAPTER VI.      11.0\n",
       "2292        CHAPTER VII.      12.0\n",
       "2655       CHAPTER VIII.      13.0\n",
       "2958         CHAPTER IX.      14.0\n",
       "3165          CHAPTER X.      15.0\n",
       "3385         CHAPTER XI.      16.0\n",
       "3651        CHAPTER XII.      17.0\n",
       "3856       CHAPTER XIII.      18.0\n",
       "4061        CHAPTER XIV.      19.0\n",
       "4245         CHAPTER XV.      20.0\n",
       "4552        CHAPTER XVI.      21.0\n",
       "4861       CHAPTER XVII.      22.0\n",
       "5046      CHAPTER XVIII.      23.0\n",
       "5324        CHAPTER XIX.      24.0\n",
       "5572         CHAPTER XX.      25.0\n",
       "5905        CHAPTER XXI.      26.0\n",
       "6274       CHAPTER XXII.      27.0\n",
       "6615      CHAPTER XXIII.      28.0\n",
       "6867       CHAPTER XXIV.      29.0"
      ]
     },
     "execution_count": 22,
     "metadata": {},
     "output_type": "execute_result"
    }
   ],
   "source": [
    "LINES.loc[chap_lines]"
   ]
  },
  {
   "cell_type": "code",
   "execution_count": 23,
   "id": "6bb13798-4798-41ef-b845-c018991e72e2",
   "metadata": {
    "tags": []
   },
   "outputs": [],
   "source": [
    "LINES.chap_num = LINES.chap_num.ffill()"
   ]
  },
  {
   "cell_type": "code",
   "execution_count": 24,
   "id": "d3bf9677-820e-40c8-87a6-6cacf95949b9",
   "metadata": {
    "tags": []
   },
   "outputs": [],
   "source": [
    "LINES = LINES.dropna(subset=['chap_num']) \n",
    "\n",
    "LINES = LINES.loc[~chap_lines]\n",
    "LINES.chap_num = LINES.chap_num.astype('int')"
   ]
  },
  {
   "cell_type": "code",
   "execution_count": 25,
   "id": "2b8f9d81-4110-44d6-938c-2dd80b8b336b",
   "metadata": {
    "tags": []
   },
   "outputs": [],
   "source": [
    "CHAPS = LINES.groupby(OHCO[:1])\\\n",
    "    .line_str.apply(lambda x: '\\n'.join(x))\\\n",
    "    .to_frame('chap_str')"
   ]
  },
  {
   "cell_type": "code",
   "execution_count": 26,
   "id": "4c90898a-02a6-4380-84b1-7b75f459ad99",
   "metadata": {
    "tags": []
   },
   "outputs": [
    {
     "data": {
      "text/html": [
       "<div>\n",
       "<style scoped>\n",
       "    .dataframe tbody tr th:only-of-type {\n",
       "        vertical-align: middle;\n",
       "    }\n",
       "\n",
       "    .dataframe tbody tr th {\n",
       "        vertical-align: top;\n",
       "    }\n",
       "\n",
       "    .dataframe thead th {\n",
       "        text-align: right;\n",
       "    }\n",
       "</style>\n",
       "<table border=\"1\" class=\"dataframe\">\n",
       "  <thead>\n",
       "    <tr style=\"text-align: right;\">\n",
       "      <th></th>\n",
       "      <th>chap_str</th>\n",
       "    </tr>\n",
       "    <tr>\n",
       "      <th>chap_num</th>\n",
       "      <th></th>\n",
       "    </tr>\n",
       "  </thead>\n",
       "  <tbody>\n",
       "    <tr>\n",
       "      <th>1</th>\n",
       "      <td>\\n\\nThe event on which this fiction is founded...</td>\n",
       "    </tr>\n",
       "    <tr>\n",
       "      <th>2</th>\n",
       "      <td>\\n\\n_To Mrs. Saville, England._\\n\\nSt. Petersb...</td>\n",
       "    </tr>\n",
       "    <tr>\n",
       "      <th>3</th>\n",
       "      <td>\\n\\n_To Mrs. Saville, England._\\n\\nArchangel, ...</td>\n",
       "    </tr>\n",
       "    <tr>\n",
       "      <th>4</th>\n",
       "      <td>\\n\\n_To Mrs. Saville, England._\\n\\nMY DEAR SIS...</td>\n",
       "    </tr>\n",
       "    <tr>\n",
       "      <th>5</th>\n",
       "      <td>\\n\\n_To Mrs. Saville, England._\\n\\nAugust 5th,...</td>\n",
       "    </tr>\n",
       "    <tr>\n",
       "      <th>6</th>\n",
       "      <td>\\n\\nI am by birth a Genevese; and my family is...</td>\n",
       "    </tr>\n",
       "    <tr>\n",
       "      <th>7</th>\n",
       "      <td>\\n\\nWe were brought up together; there was not...</td>\n",
       "    </tr>\n",
       "    <tr>\n",
       "      <th>8</th>\n",
       "      <td>\\n\\nWhen I had attained the age of seventeen, ...</td>\n",
       "    </tr>\n",
       "    <tr>\n",
       "      <th>9</th>\n",
       "      <td>\\n\\nFrom this day natural philosophy, and part...</td>\n",
       "    </tr>\n",
       "    <tr>\n",
       "      <th>10</th>\n",
       "      <td>\\n\\nIt was on a dreary night of November, that...</td>\n",
       "    </tr>\n",
       "  </tbody>\n",
       "</table>\n",
       "</div>"
      ],
      "text/plain": [
       "                                                   chap_str\n",
       "chap_num                                                   \n",
       "1         \\n\\nThe event on which this fiction is founded...\n",
       "2         \\n\\n_To Mrs. Saville, England._\\n\\nSt. Petersb...\n",
       "3         \\n\\n_To Mrs. Saville, England._\\n\\nArchangel, ...\n",
       "4         \\n\\n_To Mrs. Saville, England._\\n\\nMY DEAR SIS...\n",
       "5         \\n\\n_To Mrs. Saville, England._\\n\\nAugust 5th,...\n",
       "6         \\n\\nI am by birth a Genevese; and my family is...\n",
       "7         \\n\\nWe were brought up together; there was not...\n",
       "8         \\n\\nWhen I had attained the age of seventeen, ...\n",
       "9         \\n\\nFrom this day natural philosophy, and part...\n",
       "10        \\n\\nIt was on a dreary night of November, that..."
      ]
     },
     "execution_count": 26,
     "metadata": {},
     "output_type": "execute_result"
    }
   ],
   "source": [
    "CHAPS.head(10)"
   ]
  },
  {
   "cell_type": "code",
   "execution_count": 27,
   "id": "3c79fe79-d461-4f58-915e-65a601294fe9",
   "metadata": {
    "tags": []
   },
   "outputs": [],
   "source": [
    "CHAPS['chap_str'] = CHAPS.chap_str.str.strip()"
   ]
  },
  {
   "cell_type": "code",
   "execution_count": 28,
   "id": "ee7e2200-493c-4162-9d39-3b6a56281f38",
   "metadata": {
    "tags": []
   },
   "outputs": [],
   "source": [
    "para_pat = r'\\n\\n+'"
   ]
  },
  {
   "cell_type": "code",
   "execution_count": 29,
   "id": "ed355a94-51eb-4e7d-a14f-55c8dde75aca",
   "metadata": {
    "tags": []
   },
   "outputs": [],
   "source": [
    "PARAS = CHAPS['chap_str'].str.split(para_pat, expand=True).stack()\\\n",
    "    .to_frame('para_str').sort_index()\n",
    "PARAS.index.names = OHCO[:2]"
   ]
  },
  {
   "cell_type": "code",
   "execution_count": 30,
   "id": "85a454ed-e121-4243-822a-c74f3571bc54",
   "metadata": {
    "tags": []
   },
   "outputs": [
    {
     "data": {
      "text/html": [
       "<div>\n",
       "<style scoped>\n",
       "    .dataframe tbody tr th:only-of-type {\n",
       "        vertical-align: middle;\n",
       "    }\n",
       "\n",
       "    .dataframe tbody tr th {\n",
       "        vertical-align: top;\n",
       "    }\n",
       "\n",
       "    .dataframe thead th {\n",
       "        text-align: right;\n",
       "    }\n",
       "</style>\n",
       "<table border=\"1\" class=\"dataframe\">\n",
       "  <thead>\n",
       "    <tr style=\"text-align: right;\">\n",
       "      <th></th>\n",
       "      <th></th>\n",
       "      <th>para_str</th>\n",
       "    </tr>\n",
       "    <tr>\n",
       "      <th>chap_num</th>\n",
       "      <th>para_num</th>\n",
       "      <th></th>\n",
       "    </tr>\n",
       "  </thead>\n",
       "  <tbody>\n",
       "    <tr>\n",
       "      <th rowspan=\"5\" valign=\"top\">1</th>\n",
       "      <th>0</th>\n",
       "      <td>The event on which this fiction is founded, ha...</td>\n",
       "    </tr>\n",
       "    <tr>\n",
       "      <th>1</th>\n",
       "      <td>I have thus endeavoured to preserve the truth ...</td>\n",
       "    </tr>\n",
       "    <tr>\n",
       "      <th>2</th>\n",
       "      <td>The circumstance on which my story rests was s...</td>\n",
       "    </tr>\n",
       "    <tr>\n",
       "      <th>3</th>\n",
       "      <td>It is a subject also of additional interest to...</td>\n",
       "    </tr>\n",
       "    <tr>\n",
       "      <th>4</th>\n",
       "      <td>The weather, however, suddenly became serene; ...</td>\n",
       "    </tr>\n",
       "  </tbody>\n",
       "</table>\n",
       "</div>"
      ],
      "text/plain": [
       "                                                            para_str\n",
       "chap_num para_num                                                   \n",
       "1        0         The event on which this fiction is founded, ha...\n",
       "         1         I have thus endeavoured to preserve the truth ...\n",
       "         2         The circumstance on which my story rests was s...\n",
       "         3         It is a subject also of additional interest to...\n",
       "         4         The weather, however, suddenly became serene; ..."
      ]
     },
     "execution_count": 30,
     "metadata": {},
     "output_type": "execute_result"
    }
   ],
   "source": [
    "PARAS.head()"
   ]
  },
  {
   "cell_type": "code",
   "execution_count": 31,
   "id": "40a1219f-b5d2-4bc1-833a-1a389f949cb8",
   "metadata": {
    "tags": []
   },
   "outputs": [],
   "source": [
    "PARAS['para_str'] = PARAS['para_str'].str.replace(r'\\n', ' ', regex=True)\n",
    "PARAS['para_str'] = PARAS['para_str'].str.strip()\n",
    "PARAS = PARAS[~PARAS['para_str'].str.match(r'^\\s*$')]"
   ]
  },
  {
   "cell_type": "code",
   "execution_count": 32,
   "id": "3a63c93f-17fe-4af0-aa9d-8f0ac07b347b",
   "metadata": {
    "tags": []
   },
   "outputs": [
    {
     "data": {
      "text/html": [
       "<div>\n",
       "<style scoped>\n",
       "    .dataframe tbody tr th:only-of-type {\n",
       "        vertical-align: middle;\n",
       "    }\n",
       "\n",
       "    .dataframe tbody tr th {\n",
       "        vertical-align: top;\n",
       "    }\n",
       "\n",
       "    .dataframe thead th {\n",
       "        text-align: right;\n",
       "    }\n",
       "</style>\n",
       "<table border=\"1\" class=\"dataframe\">\n",
       "  <thead>\n",
       "    <tr style=\"text-align: right;\">\n",
       "      <th></th>\n",
       "      <th></th>\n",
       "      <th>para_str</th>\n",
       "    </tr>\n",
       "    <tr>\n",
       "      <th>chap_num</th>\n",
       "      <th>para_num</th>\n",
       "      <th></th>\n",
       "    </tr>\n",
       "  </thead>\n",
       "  <tbody>\n",
       "    <tr>\n",
       "      <th rowspan=\"5\" valign=\"top\">1</th>\n",
       "      <th>0</th>\n",
       "      <td>The event on which this fiction is founded, ha...</td>\n",
       "    </tr>\n",
       "    <tr>\n",
       "      <th>1</th>\n",
       "      <td>I have thus endeavoured to preserve the truth ...</td>\n",
       "    </tr>\n",
       "    <tr>\n",
       "      <th>2</th>\n",
       "      <td>The circumstance on which my story rests was s...</td>\n",
       "    </tr>\n",
       "    <tr>\n",
       "      <th>3</th>\n",
       "      <td>It is a subject also of additional interest to...</td>\n",
       "    </tr>\n",
       "    <tr>\n",
       "      <th>4</th>\n",
       "      <td>The weather, however, suddenly became serene; ...</td>\n",
       "    </tr>\n",
       "  </tbody>\n",
       "</table>\n",
       "</div>"
      ],
      "text/plain": [
       "                                                            para_str\n",
       "chap_num para_num                                                   \n",
       "1        0         The event on which this fiction is founded, ha...\n",
       "         1         I have thus endeavoured to preserve the truth ...\n",
       "         2         The circumstance on which my story rests was s...\n",
       "         3         It is a subject also of additional interest to...\n",
       "         4         The weather, however, suddenly became serene; ..."
      ]
     },
     "execution_count": 32,
     "metadata": {},
     "output_type": "execute_result"
    }
   ],
   "source": [
    "PARAS.head()"
   ]
  },
  {
   "cell_type": "code",
   "execution_count": 33,
   "id": "d54ea890-3740-4449-803e-c5a41d80fe1c",
   "metadata": {
    "tags": []
   },
   "outputs": [],
   "source": [
    "sent_pat = r'[.?!;:]+'\n",
    "SENTS = PARAS['para_str'].str.split(sent_pat, expand=True).stack()\\\n",
    "    .to_frame('sent_str')\n",
    "SENTS.index.names = OHCO[:3]"
   ]
  },
  {
   "cell_type": "code",
   "execution_count": 34,
   "id": "c0faa82a-33e3-4d6e-aeaa-1102e107df1b",
   "metadata": {
    "tags": []
   },
   "outputs": [],
   "source": [
    "SENTS = SENTS[~SENTS['sent_str'].str.match(r'^\\s*$')]\n",
    "SENTS.sent_str = SENTS.sent_str.str.strip()"
   ]
  },
  {
   "cell_type": "code",
   "execution_count": 35,
   "id": "92b456b0-361e-42d3-9a63-6eddfd2b5d92",
   "metadata": {
    "tags": []
   },
   "outputs": [
    {
     "data": {
      "text/html": [
       "<div>\n",
       "<style scoped>\n",
       "    .dataframe tbody tr th:only-of-type {\n",
       "        vertical-align: middle;\n",
       "    }\n",
       "\n",
       "    .dataframe tbody tr th {\n",
       "        vertical-align: top;\n",
       "    }\n",
       "\n",
       "    .dataframe thead th {\n",
       "        text-align: right;\n",
       "    }\n",
       "</style>\n",
       "<table border=\"1\" class=\"dataframe\">\n",
       "  <thead>\n",
       "    <tr style=\"text-align: right;\">\n",
       "      <th></th>\n",
       "      <th></th>\n",
       "      <th></th>\n",
       "      <th>sent_str</th>\n",
       "    </tr>\n",
       "    <tr>\n",
       "      <th>chap_num</th>\n",
       "      <th>para_num</th>\n",
       "      <th>sent_num</th>\n",
       "      <th></th>\n",
       "    </tr>\n",
       "  </thead>\n",
       "  <tbody>\n",
       "    <tr>\n",
       "      <th rowspan=\"5\" valign=\"top\">1</th>\n",
       "      <th rowspan=\"5\" valign=\"top\">0</th>\n",
       "      <th>0</th>\n",
       "      <td>The event on which this fiction is founded, ha...</td>\n",
       "    </tr>\n",
       "    <tr>\n",
       "      <th>1</th>\n",
       "      <td>Darwin, and some of the physiological writers ...</td>\n",
       "    </tr>\n",
       "    <tr>\n",
       "      <th>2</th>\n",
       "      <td>I shall not be supposed as according the remot...</td>\n",
       "    </tr>\n",
       "    <tr>\n",
       "      <th>3</th>\n",
       "      <td>yet, in assuming it as the basis of a work of ...</td>\n",
       "    </tr>\n",
       "    <tr>\n",
       "      <th>4</th>\n",
       "      <td>The event on which the interest of the story d...</td>\n",
       "    </tr>\n",
       "  </tbody>\n",
       "</table>\n",
       "</div>"
      ],
      "text/plain": [
       "                                                                     sent_str\n",
       "chap_num para_num sent_num                                                   \n",
       "1        0        0         The event on which this fiction is founded, ha...\n",
       "                  1         Darwin, and some of the physiological writers ...\n",
       "                  2         I shall not be supposed as according the remot...\n",
       "                  3         yet, in assuming it as the basis of a work of ...\n",
       "                  4         The event on which the interest of the story d..."
      ]
     },
     "execution_count": 35,
     "metadata": {},
     "output_type": "execute_result"
    }
   ],
   "source": [
    "SENTS.head()"
   ]
  },
  {
   "cell_type": "code",
   "execution_count": 36,
   "id": "b1e2b57b-1476-497a-a9a5-6170391714f2",
   "metadata": {
    "tags": []
   },
   "outputs": [],
   "source": [
    "token_pat = r\"[\\s',-]+\"\n",
    "TOKENS = SENTS['sent_str'].str.split(token_pat, expand=True).stack()\\\n",
    "    .to_frame('token_str')"
   ]
  },
  {
   "cell_type": "code",
   "execution_count": 37,
   "id": "5d44d564-3910-45c8-9202-08a94046f47f",
   "metadata": {
    "tags": []
   },
   "outputs": [],
   "source": [
    "TOKENS.index.names = OHCO[:4]"
   ]
  },
  {
   "cell_type": "code",
   "execution_count": 38,
   "id": "fb092072-3d27-4a28-9728-9702fe4ec721",
   "metadata": {
    "tags": []
   },
   "outputs": [],
   "source": [
    "TOKENS['term_str'] = TOKENS.token_str.replace(r'[\\W_]+', '', regex=True).str.lower()\n",
    "VOCAB = TOKENS.term_str.value_counts().to_frame('n').reset_index().rename(columns={'index':'term_str'})\n",
    "VOCAB.index.name = 'term_str'"
   ]
  },
  {
   "cell_type": "code",
   "execution_count": 39,
   "id": "1ab72c55-a2c7-4222-8da9-cbb7075d8f5e",
   "metadata": {
    "tags": []
   },
   "outputs": [
    {
     "data": {
      "text/html": [
       "<div>\n",
       "<style scoped>\n",
       "    .dataframe tbody tr th:only-of-type {\n",
       "        vertical-align: middle;\n",
       "    }\n",
       "\n",
       "    .dataframe tbody tr th {\n",
       "        vertical-align: top;\n",
       "    }\n",
       "\n",
       "    .dataframe thead th {\n",
       "        text-align: right;\n",
       "    }\n",
       "</style>\n",
       "<table border=\"1\" class=\"dataframe\">\n",
       "  <thead>\n",
       "    <tr style=\"text-align: right;\">\n",
       "      <th></th>\n",
       "      <th>term_str</th>\n",
       "      <th>n</th>\n",
       "    </tr>\n",
       "    <tr>\n",
       "      <th>term_str</th>\n",
       "      <th></th>\n",
       "      <th></th>\n",
       "    </tr>\n",
       "  </thead>\n",
       "  <tbody>\n",
       "    <tr>\n",
       "      <th>0</th>\n",
       "      <td>the</td>\n",
       "      <td>4252</td>\n",
       "    </tr>\n",
       "    <tr>\n",
       "      <th>1</th>\n",
       "      <td>and</td>\n",
       "      <td>2993</td>\n",
       "    </tr>\n",
       "    <tr>\n",
       "      <th>2</th>\n",
       "      <td>i</td>\n",
       "      <td>2861</td>\n",
       "    </tr>\n",
       "    <tr>\n",
       "      <th>3</th>\n",
       "      <td>of</td>\n",
       "      <td>2687</td>\n",
       "    </tr>\n",
       "    <tr>\n",
       "      <th>4</th>\n",
       "      <td>to</td>\n",
       "      <td>2123</td>\n",
       "    </tr>\n",
       "    <tr>\n",
       "      <th>...</th>\n",
       "      <td>...</td>\n",
       "      <td>...</td>\n",
       "    </tr>\n",
       "    <tr>\n",
       "      <th>7034</th>\n",
       "      <td>peeping</td>\n",
       "      <td>1</td>\n",
       "    </tr>\n",
       "    <tr>\n",
       "      <th>7035</th>\n",
       "      <td>pyramids</td>\n",
       "      <td>1</td>\n",
       "    </tr>\n",
       "    <tr>\n",
       "      <th>7036</th>\n",
       "      <td>towered</td>\n",
       "      <td>1</td>\n",
       "    </tr>\n",
       "    <tr>\n",
       "      <th>7037</th>\n",
       "      <td>bridge</td>\n",
       "      <td>1</td>\n",
       "    </tr>\n",
       "    <tr>\n",
       "      <th>7038</th>\n",
       "      <td>shelley</td>\n",
       "      <td>1</td>\n",
       "    </tr>\n",
       "  </tbody>\n",
       "</table>\n",
       "<p>7039 rows × 2 columns</p>\n",
       "</div>"
      ],
      "text/plain": [
       "          term_str     n\n",
       "term_str                \n",
       "0              the  4252\n",
       "1              and  2993\n",
       "2                i  2861\n",
       "3               of  2687\n",
       "4               to  2123\n",
       "...            ...   ...\n",
       "7034       peeping     1\n",
       "7035      pyramids     1\n",
       "7036       towered     1\n",
       "7037        bridge     1\n",
       "7038       shelley     1\n",
       "\n",
       "[7039 rows x 2 columns]"
      ]
     },
     "execution_count": 39,
     "metadata": {},
     "output_type": "execute_result"
    }
   ],
   "source": [
    "VOCAB"
   ]
  },
  {
   "cell_type": "code",
   "execution_count": 40,
   "id": "e64c1d35-2d75-4ab2-8a90-6e447475fc9e",
   "metadata": {
    "tags": []
   },
   "outputs": [
    {
     "name": "stdout",
     "output_type": "stream",
     "text": [
      "          term_str     n  n_chars\n",
      "term_str                         \n",
      "0              the  4252        3\n",
      "1              and  2993        3\n",
      "2                i  2861        1\n",
      "3               of  2687        2\n",
      "4               to  2123        2\n",
      "...            ...   ...      ...\n",
      "7034       peeping     1        7\n",
      "7035      pyramids     1        8\n",
      "7036       towered     1        7\n",
      "7037        bridge     1        6\n",
      "7038       shelley     1        7\n",
      "\n",
      "[7039 rows x 3 columns]\n"
     ]
    }
   ],
   "source": [
    "VOCAB['n_chars'] = VOCAB['term_str'].str.len()\n",
    "print(VOCAB)\n",
    "#VOCAB['modified_term_str'] = VOCAB.index\n",
    "#VOCAB.loc[(VOCAB.n == 1) & (VOCAB.n_chars < 3), 'modified_term_str'] = \"<UNK>\""
   ]
  },
  {
   "cell_type": "code",
   "execution_count": 41,
   "id": "d63c9ddb-0ed5-4144-b7c1-8395dd46b799",
   "metadata": {
    "tags": []
   },
   "outputs": [],
   "source": [
    "#TOKENS['modified_term_str'] = TOKENS.term_str.map(VOCAB.modified_term_str)"
   ]
  },
  {
   "cell_type": "code",
   "execution_count": 42,
   "id": "2418a669-24f6-43c3-b617-a18233569d93",
   "metadata": {
    "tags": []
   },
   "outputs": [],
   "source": [
    "def token_to_padded(token, grouper=['sent_num'], term_str='term_str'):\n",
    "    ohco = token.index.names # We preserve these since they get lost in the shuffle'\n",
    "    padded = token.groupby(grouper)\\\n",
    "        .apply(lambda x: '<s> ' + ' '.join(x[term_str]) + ' </s>')\\\n",
    "        .apply(lambda x: pd.Series(x.split()))\\\n",
    "        .stack().to_frame('term_str')\n",
    "    padded.index.names = ohco\n",
    "    return padded"
   ]
  },
  {
   "cell_type": "code",
   "execution_count": 43,
   "id": "9e23eab4-0e46-4e50-b78d-6d12968e5bf0",
   "metadata": {
    "tags": []
   },
   "outputs": [
    {
     "data": {
      "text/html": [
       "<div>\n",
       "<style scoped>\n",
       "    .dataframe tbody tr th:only-of-type {\n",
       "        vertical-align: middle;\n",
       "    }\n",
       "\n",
       "    .dataframe tbody tr th {\n",
       "        vertical-align: top;\n",
       "    }\n",
       "\n",
       "    .dataframe thead th {\n",
       "        text-align: right;\n",
       "    }\n",
       "</style>\n",
       "<table border=\"1\" class=\"dataframe\">\n",
       "  <thead>\n",
       "    <tr style=\"text-align: right;\">\n",
       "      <th></th>\n",
       "      <th></th>\n",
       "      <th></th>\n",
       "      <th></th>\n",
       "      <th>token_str</th>\n",
       "      <th>term_str</th>\n",
       "    </tr>\n",
       "    <tr>\n",
       "      <th>chap_num</th>\n",
       "      <th>para_num</th>\n",
       "      <th>sent_num</th>\n",
       "      <th>token_num</th>\n",
       "      <th></th>\n",
       "      <th></th>\n",
       "    </tr>\n",
       "  </thead>\n",
       "  <tbody>\n",
       "    <tr>\n",
       "      <th rowspan=\"5\" valign=\"top\">1</th>\n",
       "      <th rowspan=\"5\" valign=\"top\">0</th>\n",
       "      <th rowspan=\"5\" valign=\"top\">0</th>\n",
       "      <th>0</th>\n",
       "      <td>The</td>\n",
       "      <td>the</td>\n",
       "    </tr>\n",
       "    <tr>\n",
       "      <th>1</th>\n",
       "      <td>event</td>\n",
       "      <td>event</td>\n",
       "    </tr>\n",
       "    <tr>\n",
       "      <th>2</th>\n",
       "      <td>on</td>\n",
       "      <td>on</td>\n",
       "    </tr>\n",
       "    <tr>\n",
       "      <th>3</th>\n",
       "      <td>which</td>\n",
       "      <td>which</td>\n",
       "    </tr>\n",
       "    <tr>\n",
       "      <th>4</th>\n",
       "      <td>this</td>\n",
       "      <td>this</td>\n",
       "    </tr>\n",
       "    <tr>\n",
       "      <th>...</th>\n",
       "      <th>...</th>\n",
       "      <th>...</th>\n",
       "      <th>...</th>\n",
       "      <td>...</td>\n",
       "      <td>...</td>\n",
       "    </tr>\n",
       "    <tr>\n",
       "      <th rowspan=\"5\" valign=\"top\">29</th>\n",
       "      <th rowspan=\"5\" valign=\"top\">86</th>\n",
       "      <th rowspan=\"4\" valign=\"top\">0</th>\n",
       "      <th>7</th>\n",
       "      <td>Frankenstein</td>\n",
       "      <td>frankenstein</td>\n",
       "    </tr>\n",
       "    <tr>\n",
       "      <th>8</th>\n",
       "      <td>by</td>\n",
       "      <td>by</td>\n",
       "    </tr>\n",
       "    <tr>\n",
       "      <th>9</th>\n",
       "      <td>Mary</td>\n",
       "      <td>mary</td>\n",
       "    </tr>\n",
       "    <tr>\n",
       "      <th>10</th>\n",
       "      <td>W</td>\n",
       "      <td>w</td>\n",
       "    </tr>\n",
       "    <tr>\n",
       "      <th>1</th>\n",
       "      <th>0</th>\n",
       "      <td>Shelley</td>\n",
       "      <td>shelley</td>\n",
       "    </tr>\n",
       "  </tbody>\n",
       "</table>\n",
       "<p>76521 rows × 2 columns</p>\n",
       "</div>"
      ],
      "text/plain": [
       "                                         token_str      term_str\n",
       "chap_num para_num sent_num token_num                            \n",
       "1        0        0        0                   The           the\n",
       "                           1                 event         event\n",
       "                           2                    on            on\n",
       "                           3                 which         which\n",
       "                           4                  this          this\n",
       "...                                            ...           ...\n",
       "29       86       0        7          Frankenstein  frankenstein\n",
       "                           8                    by            by\n",
       "                           9                  Mary          mary\n",
       "                           10                    W             w\n",
       "                  1        0               Shelley       shelley\n",
       "\n",
       "[76521 rows x 2 columns]"
      ]
     },
     "execution_count": 43,
     "metadata": {},
     "output_type": "execute_result"
    }
   ],
   "source": [
    "TOKEN = TOKENS\n",
    "TOKEN"
   ]
  },
  {
   "cell_type": "code",
   "execution_count": 44,
   "id": "d73c546e-f3c0-4a22-bc3f-c47d0ec2e2ea",
   "metadata": {
    "tags": []
   },
   "outputs": [
    {
     "name": "stderr",
     "output_type": "stream",
     "text": [
      "/tmp/ipykernel_700123/4185945289.py:2: FutureWarning: The previous implementation of stack is deprecated and will be removed in a future version of pandas. See the What's New notes for pandas 2.1.0 for details. Specify future_stack=True to adopt the new implementation and silence this warning.\n",
      "  PADDED = PADDED.unstack().reset_index(drop=True).stack().dropna()\n"
     ]
    }
   ],
   "source": [
    "PADDED = token_to_padded(TOKEN, grouper=OHCO[:3], term_str='term_str')\n",
    "PADDED = PADDED.unstack().reset_index(drop=True).stack().dropna()\n",
    "PADDED.index.names = ['sent_num', 'token_num']"
   ]
  },
  {
   "cell_type": "code",
   "execution_count": 45,
   "id": "b989e0b4-8242-418e-bd90-b80d227bd3cc",
   "metadata": {
    "tags": []
   },
   "outputs": [],
   "source": [
    "VOCAB2 = PADDED.term_str.value_counts().to_frame('n')"
   ]
  },
  {
   "cell_type": "code",
   "execution_count": 46,
   "id": "3b6337ab-739e-407c-b0ed-0efd8250d3d9",
   "metadata": {
    "tags": []
   },
   "outputs": [
    {
     "data": {
      "text/html": [
       "<div>\n",
       "<style scoped>\n",
       "    .dataframe tbody tr th:only-of-type {\n",
       "        vertical-align: middle;\n",
       "    }\n",
       "\n",
       "    .dataframe tbody tr th {\n",
       "        vertical-align: top;\n",
       "    }\n",
       "\n",
       "    .dataframe thead th {\n",
       "        text-align: right;\n",
       "    }\n",
       "</style>\n",
       "<table border=\"1\" class=\"dataframe\">\n",
       "  <thead>\n",
       "    <tr style=\"text-align: right;\">\n",
       "      <th></th>\n",
       "      <th></th>\n",
       "      <th>term_str</th>\n",
       "    </tr>\n",
       "    <tr>\n",
       "      <th>sent_num</th>\n",
       "      <th>token_num</th>\n",
       "      <th></th>\n",
       "    </tr>\n",
       "  </thead>\n",
       "  <tbody>\n",
       "    <tr>\n",
       "      <th rowspan=\"5\" valign=\"top\">0</th>\n",
       "      <th>0</th>\n",
       "      <td>&lt;s&gt;</td>\n",
       "    </tr>\n",
       "    <tr>\n",
       "      <th>1</th>\n",
       "      <td>the</td>\n",
       "    </tr>\n",
       "    <tr>\n",
       "      <th>2</th>\n",
       "      <td>event</td>\n",
       "    </tr>\n",
       "    <tr>\n",
       "      <th>3</th>\n",
       "      <td>on</td>\n",
       "    </tr>\n",
       "    <tr>\n",
       "      <th>4</th>\n",
       "      <td>which</td>\n",
       "    </tr>\n",
       "  </tbody>\n",
       "</table>\n",
       "</div>"
      ],
      "text/plain": [
       "                   term_str\n",
       "sent_num token_num         \n",
       "0        0              <s>\n",
       "         1              the\n",
       "         2            event\n",
       "         3               on\n",
       "         4            which"
      ]
     },
     "execution_count": 46,
     "metadata": {},
     "output_type": "execute_result"
    }
   ],
   "source": [
    "PADDED.head()"
   ]
  },
  {
   "cell_type": "code",
   "execution_count": 47,
   "id": "734aafd1-4d0d-4b9e-870a-30b95c344da4",
   "metadata": {
    "tags": []
   },
   "outputs": [],
   "source": [
    "def padded_to_ngrams(padded, grouper=['sent_num'], n=2):\n",
    "\n",
    "    ohco = padded.index.names # This gets lost in the grouping\n",
    "    G = padded.groupby(grouper)\n",
    "    ng = [None for i in range(ngram_order)]\n",
    "    for i in range(ngram_order):\n",
    "        if i == 0:\n",
    "            ng[0] = G.apply(lambda x: x)\n",
    "        else:\n",
    "            ng[i] = G.apply(lambda x: pd.concat([x.shift(i) for i in range(i,-1,-1)], axis=1))\n",
    "        ng[i].columns = widx[:i+1]    \n",
    "        ng[i] = ng[i].reset_index(drop=True)\n",
    "        ng[i].index = padded.index\n",
    "        ng[i] = ng[i].fillna('</s>')\n",
    "            \n",
    "    return ng"
   ]
  },
  {
   "cell_type": "code",
   "execution_count": 48,
   "id": "0809aaf4-1a62-4fb9-84bc-225cf0e11555",
   "metadata": {
    "tags": []
   },
   "outputs": [],
   "source": [
    "NG = padded_to_ngrams(PADDED, n=ngram_order)"
   ]
  },
  {
   "cell_type": "code",
   "execution_count": 49,
   "id": "32bb0336-69eb-4551-9cd6-4255514cc808",
   "metadata": {
    "tags": []
   },
   "outputs": [],
   "source": [
    "sid = 5"
   ]
  },
  {
   "cell_type": "code",
   "execution_count": 50,
   "id": "878ba0dd-04cd-4b66-8085-4de5563f797f",
   "metadata": {
    "tags": []
   },
   "outputs": [
    {
     "data": {
      "text/html": [
       "<div>\n",
       "<style scoped>\n",
       "    .dataframe tbody tr th:only-of-type {\n",
       "        vertical-align: middle;\n",
       "    }\n",
       "\n",
       "    .dataframe tbody tr th {\n",
       "        vertical-align: top;\n",
       "    }\n",
       "\n",
       "    .dataframe thead th {\n",
       "        text-align: right;\n",
       "    }\n",
       "</style>\n",
       "<table border=\"1\" class=\"dataframe\">\n",
       "  <thead>\n",
       "    <tr style=\"text-align: right;\">\n",
       "      <th></th>\n",
       "      <th>w0</th>\n",
       "    </tr>\n",
       "    <tr>\n",
       "      <th>token_num</th>\n",
       "      <th></th>\n",
       "    </tr>\n",
       "  </thead>\n",
       "  <tbody>\n",
       "    <tr>\n",
       "      <th>0</th>\n",
       "      <td>&lt;s&gt;</td>\n",
       "    </tr>\n",
       "    <tr>\n",
       "      <th>1</th>\n",
       "      <td>it</td>\n",
       "    </tr>\n",
       "    <tr>\n",
       "      <th>2</th>\n",
       "      <td>was</td>\n",
       "    </tr>\n",
       "    <tr>\n",
       "      <th>3</th>\n",
       "      <td>recommended</td>\n",
       "    </tr>\n",
       "    <tr>\n",
       "      <th>4</th>\n",
       "      <td>by</td>\n",
       "    </tr>\n",
       "    <tr>\n",
       "      <th>5</th>\n",
       "      <td>the</td>\n",
       "    </tr>\n",
       "    <tr>\n",
       "      <th>6</th>\n",
       "      <td>novelty</td>\n",
       "    </tr>\n",
       "    <tr>\n",
       "      <th>7</th>\n",
       "      <td>of</td>\n",
       "    </tr>\n",
       "    <tr>\n",
       "      <th>8</th>\n",
       "      <td>the</td>\n",
       "    </tr>\n",
       "    <tr>\n",
       "      <th>9</th>\n",
       "      <td>situations</td>\n",
       "    </tr>\n",
       "    <tr>\n",
       "      <th>10</th>\n",
       "      <td>which</td>\n",
       "    </tr>\n",
       "    <tr>\n",
       "      <th>11</th>\n",
       "      <td>it</td>\n",
       "    </tr>\n",
       "    <tr>\n",
       "      <th>12</th>\n",
       "      <td>developes</td>\n",
       "    </tr>\n",
       "    <tr>\n",
       "      <th>13</th>\n",
       "      <td>&lt;/s&gt;</td>\n",
       "    </tr>\n",
       "  </tbody>\n",
       "</table>\n",
       "</div>"
      ],
      "text/plain": [
       "                    w0\n",
       "token_num             \n",
       "0                  <s>\n",
       "1                   it\n",
       "2                  was\n",
       "3          recommended\n",
       "4                   by\n",
       "5                  the\n",
       "6              novelty\n",
       "7                   of\n",
       "8                  the\n",
       "9           situations\n",
       "10               which\n",
       "11                  it\n",
       "12           developes\n",
       "13                </s>"
      ]
     },
     "execution_count": 50,
     "metadata": {},
     "output_type": "execute_result"
    }
   ],
   "source": [
    "NG[0].loc[sid]"
   ]
  },
  {
   "cell_type": "code",
   "execution_count": 51,
   "id": "68d5f8de-4d3c-4d24-a4a0-136d3418ce1f",
   "metadata": {
    "tags": []
   },
   "outputs": [
    {
     "data": {
      "text/html": [
       "<div>\n",
       "<style scoped>\n",
       "    .dataframe tbody tr th:only-of-type {\n",
       "        vertical-align: middle;\n",
       "    }\n",
       "\n",
       "    .dataframe tbody tr th {\n",
       "        vertical-align: top;\n",
       "    }\n",
       "\n",
       "    .dataframe thead th {\n",
       "        text-align: right;\n",
       "    }\n",
       "</style>\n",
       "<table border=\"1\" class=\"dataframe\">\n",
       "  <thead>\n",
       "    <tr style=\"text-align: right;\">\n",
       "      <th></th>\n",
       "      <th>w0</th>\n",
       "      <th>w1</th>\n",
       "    </tr>\n",
       "    <tr>\n",
       "      <th>token_num</th>\n",
       "      <th></th>\n",
       "      <th></th>\n",
       "    </tr>\n",
       "  </thead>\n",
       "  <tbody>\n",
       "    <tr>\n",
       "      <th>0</th>\n",
       "      <td>&lt;/s&gt;</td>\n",
       "      <td>&lt;s&gt;</td>\n",
       "    </tr>\n",
       "    <tr>\n",
       "      <th>1</th>\n",
       "      <td>&lt;s&gt;</td>\n",
       "      <td>it</td>\n",
       "    </tr>\n",
       "    <tr>\n",
       "      <th>2</th>\n",
       "      <td>it</td>\n",
       "      <td>was</td>\n",
       "    </tr>\n",
       "    <tr>\n",
       "      <th>3</th>\n",
       "      <td>was</td>\n",
       "      <td>recommended</td>\n",
       "    </tr>\n",
       "    <tr>\n",
       "      <th>4</th>\n",
       "      <td>recommended</td>\n",
       "      <td>by</td>\n",
       "    </tr>\n",
       "    <tr>\n",
       "      <th>5</th>\n",
       "      <td>by</td>\n",
       "      <td>the</td>\n",
       "    </tr>\n",
       "    <tr>\n",
       "      <th>6</th>\n",
       "      <td>the</td>\n",
       "      <td>novelty</td>\n",
       "    </tr>\n",
       "    <tr>\n",
       "      <th>7</th>\n",
       "      <td>novelty</td>\n",
       "      <td>of</td>\n",
       "    </tr>\n",
       "    <tr>\n",
       "      <th>8</th>\n",
       "      <td>of</td>\n",
       "      <td>the</td>\n",
       "    </tr>\n",
       "    <tr>\n",
       "      <th>9</th>\n",
       "      <td>the</td>\n",
       "      <td>situations</td>\n",
       "    </tr>\n",
       "    <tr>\n",
       "      <th>10</th>\n",
       "      <td>situations</td>\n",
       "      <td>which</td>\n",
       "    </tr>\n",
       "    <tr>\n",
       "      <th>11</th>\n",
       "      <td>which</td>\n",
       "      <td>it</td>\n",
       "    </tr>\n",
       "    <tr>\n",
       "      <th>12</th>\n",
       "      <td>it</td>\n",
       "      <td>developes</td>\n",
       "    </tr>\n",
       "    <tr>\n",
       "      <th>13</th>\n",
       "      <td>developes</td>\n",
       "      <td>&lt;/s&gt;</td>\n",
       "    </tr>\n",
       "  </tbody>\n",
       "</table>\n",
       "</div>"
      ],
      "text/plain": [
       "                    w0           w1\n",
       "token_num                          \n",
       "0                 </s>          <s>\n",
       "1                  <s>           it\n",
       "2                   it          was\n",
       "3                  was  recommended\n",
       "4          recommended           by\n",
       "5                   by          the\n",
       "6                  the      novelty\n",
       "7              novelty           of\n",
       "8                   of          the\n",
       "9                  the   situations\n",
       "10          situations        which\n",
       "11               which           it\n",
       "12                  it    developes\n",
       "13           developes         </s>"
      ]
     },
     "execution_count": 51,
     "metadata": {},
     "output_type": "execute_result"
    }
   ],
   "source": [
    "NG[1].loc[sid]"
   ]
  },
  {
   "cell_type": "code",
   "execution_count": 52,
   "id": "f7901950-9f13-47aa-928f-f87f476c62d3",
   "metadata": {
    "tags": []
   },
   "outputs": [
    {
     "data": {
      "text/html": [
       "<div>\n",
       "<style scoped>\n",
       "    .dataframe tbody tr th:only-of-type {\n",
       "        vertical-align: middle;\n",
       "    }\n",
       "\n",
       "    .dataframe tbody tr th {\n",
       "        vertical-align: top;\n",
       "    }\n",
       "\n",
       "    .dataframe thead th {\n",
       "        text-align: right;\n",
       "    }\n",
       "</style>\n",
       "<table border=\"1\" class=\"dataframe\">\n",
       "  <thead>\n",
       "    <tr style=\"text-align: right;\">\n",
       "      <th></th>\n",
       "      <th>w0</th>\n",
       "      <th>w1</th>\n",
       "      <th>w2</th>\n",
       "    </tr>\n",
       "    <tr>\n",
       "      <th>token_num</th>\n",
       "      <th></th>\n",
       "      <th></th>\n",
       "      <th></th>\n",
       "    </tr>\n",
       "  </thead>\n",
       "  <tbody>\n",
       "    <tr>\n",
       "      <th>0</th>\n",
       "      <td>&lt;/s&gt;</td>\n",
       "      <td>&lt;/s&gt;</td>\n",
       "      <td>&lt;s&gt;</td>\n",
       "    </tr>\n",
       "    <tr>\n",
       "      <th>1</th>\n",
       "      <td>&lt;/s&gt;</td>\n",
       "      <td>&lt;s&gt;</td>\n",
       "      <td>it</td>\n",
       "    </tr>\n",
       "    <tr>\n",
       "      <th>2</th>\n",
       "      <td>&lt;s&gt;</td>\n",
       "      <td>it</td>\n",
       "      <td>was</td>\n",
       "    </tr>\n",
       "    <tr>\n",
       "      <th>3</th>\n",
       "      <td>it</td>\n",
       "      <td>was</td>\n",
       "      <td>recommended</td>\n",
       "    </tr>\n",
       "    <tr>\n",
       "      <th>4</th>\n",
       "      <td>was</td>\n",
       "      <td>recommended</td>\n",
       "      <td>by</td>\n",
       "    </tr>\n",
       "    <tr>\n",
       "      <th>5</th>\n",
       "      <td>recommended</td>\n",
       "      <td>by</td>\n",
       "      <td>the</td>\n",
       "    </tr>\n",
       "    <tr>\n",
       "      <th>6</th>\n",
       "      <td>by</td>\n",
       "      <td>the</td>\n",
       "      <td>novelty</td>\n",
       "    </tr>\n",
       "    <tr>\n",
       "      <th>7</th>\n",
       "      <td>the</td>\n",
       "      <td>novelty</td>\n",
       "      <td>of</td>\n",
       "    </tr>\n",
       "    <tr>\n",
       "      <th>8</th>\n",
       "      <td>novelty</td>\n",
       "      <td>of</td>\n",
       "      <td>the</td>\n",
       "    </tr>\n",
       "    <tr>\n",
       "      <th>9</th>\n",
       "      <td>of</td>\n",
       "      <td>the</td>\n",
       "      <td>situations</td>\n",
       "    </tr>\n",
       "    <tr>\n",
       "      <th>10</th>\n",
       "      <td>the</td>\n",
       "      <td>situations</td>\n",
       "      <td>which</td>\n",
       "    </tr>\n",
       "    <tr>\n",
       "      <th>11</th>\n",
       "      <td>situations</td>\n",
       "      <td>which</td>\n",
       "      <td>it</td>\n",
       "    </tr>\n",
       "    <tr>\n",
       "      <th>12</th>\n",
       "      <td>which</td>\n",
       "      <td>it</td>\n",
       "      <td>developes</td>\n",
       "    </tr>\n",
       "    <tr>\n",
       "      <th>13</th>\n",
       "      <td>it</td>\n",
       "      <td>developes</td>\n",
       "      <td>&lt;/s&gt;</td>\n",
       "    </tr>\n",
       "  </tbody>\n",
       "</table>\n",
       "</div>"
      ],
      "text/plain": [
       "                    w0           w1           w2\n",
       "token_num                                       \n",
       "0                 </s>         </s>          <s>\n",
       "1                 </s>          <s>           it\n",
       "2                  <s>           it          was\n",
       "3                   it          was  recommended\n",
       "4                  was  recommended           by\n",
       "5          recommended           by          the\n",
       "6                   by          the      novelty\n",
       "7                  the      novelty           of\n",
       "8              novelty           of          the\n",
       "9                   of          the   situations\n",
       "10                 the   situations        which\n",
       "11          situations        which           it\n",
       "12               which           it    developes\n",
       "13                  it    developes         </s>"
      ]
     },
     "execution_count": 52,
     "metadata": {},
     "output_type": "execute_result"
    }
   ],
   "source": [
    "NG[2].loc[sid]"
   ]
  },
  {
   "cell_type": "code",
   "execution_count": 53,
   "id": "59ac8fef-1839-4a98-929b-e3173ea392c1",
   "metadata": {
    "tags": []
   },
   "outputs": [],
   "source": [
    "def ngrams_to_models(ngrams, k=.01):\n",
    "\n",
    "    model = [None for i in range(ngram_order)]\n",
    "    K = len(VOCAB2) * k\n",
    "    \n",
    "    for i in range(ngram_order):    \n",
    "        if i == 0:\n",
    "            model[i] = ngrams[i].value_counts().to_frame('n')\n",
    "            model[i]['p'] = (model[i].n + k) / (model[i].n.sum() + K)\n",
    "            model[i]['i'] = np.log2(1/model[i].p)\n",
    "        else:\n",
    "            model[i] = ngrams[i].value_counts().to_frame('n')\n",
    "            model[i]['cp'] = (model[i].n + k) / (model[i-1].n + K)\n",
    "            model[i]['i'] = np.log2(1/model[i].cp)\n",
    "        model[i] = model[i].sort_index()\n",
    "            \n",
    "    return model"
   ]
  },
  {
   "cell_type": "code",
   "execution_count": 54,
   "id": "872d3385-56b3-41c8-b976-d97ad260b14b",
   "metadata": {
    "tags": []
   },
   "outputs": [],
   "source": [
    "M = ngrams_to_models(NG)"
   ]
  },
  {
   "cell_type": "code",
   "execution_count": 55,
   "id": "a42ff6ef-5c67-4559-8836-b651283ad500",
   "metadata": {
    "tags": []
   },
   "outputs": [],
   "source": [
    "def ngrams_to_matrix_models(ngrams, k=.01):\n",
    "    M = [None for i in range(ngram_order)]\n",
    "    for i in range(ngram_order):\n",
    "        M[i] = NG[i].value_counts()\n",
    "        if i > 0:\n",
    "            M[i] = M[i].unstack(fill_value=0).T + k\n",
    "        else:\n",
    "            M[i] = M[i].to_frame('i')\n",
    "        M[i] = M[i] / M[i].sum()\n",
    "        M[i] = -np.log2(M[i])        \n",
    "    return M"
   ]
  },
  {
   "cell_type": "code",
   "execution_count": null,
   "id": "69a1594b-a1dc-4f61-80cc-494b845808ad",
   "metadata": {
    "tags": []
   },
   "outputs": [],
   "source": [
    "MM = ngrams_to_matrix_models(NG)"
   ]
  },
  {
   "cell_type": "code",
   "execution_count": null,
   "id": "d111532b-0f5c-4d1c-a4f9-9dfca1b430fb",
   "metadata": {
    "tags": []
   },
   "outputs": [],
   "source": [
    "MM[2]"
   ]
  },
  {
   "cell_type": "code",
   "execution_count": null,
   "id": "bb56af7a-b739-4c37-abcd-872492cb7109",
   "metadata": {},
   "outputs": [],
   "source": []
  }
 ],
 "metadata": {
  "kernelspec": {
   "display_name": "Python 3 (ipykernel)",
   "language": "python",
   "name": "python3"
  },
  "language_info": {
   "codemirror_mode": {
    "name": "ipython",
    "version": 3
   },
   "file_extension": ".py",
   "mimetype": "text/x-python",
   "name": "python",
   "nbconvert_exporter": "python",
   "pygments_lexer": "ipython3",
   "version": "3.11.4"
  }
 },
 "nbformat": 4,
 "nbformat_minor": 5
}
